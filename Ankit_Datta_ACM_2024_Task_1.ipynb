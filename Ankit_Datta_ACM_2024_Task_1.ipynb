{
  "cells": [
    {
      "cell_type": "markdown",
      "metadata": {
        "id": "view-in-github",
        "colab_type": "text"
      },
      "source": [
        "<a href=\"https://colab.research.google.com/github/ankit-281/Ankit-Datta-ACM-week-1/blob/main/Ankit_Datta_ACM_2024_Task_1.ipynb\" target=\"_parent\"><img src=\"https://colab.research.google.com/assets/colab-badge.svg\" alt=\"Open In Colab\"/></a>"
      ]
    },
    {
      "cell_type": "markdown",
      "metadata": {
        "id": "bugnHkGyHHj5"
      },
      "source": [
        "# **ACM Task 1**\n",
        "\n",
        "Welcome mentees to your first task in ACM!\n",
        "\n",
        "\n",
        "Our focus this week is on mastering [Python](http://alturl.com/5536k)—a language that powers countless applications, from web development to AI and data science. By the end of this notebook, you’ll have a strong foundation in Python that will serve as a stepping stone for more advanced topics in the coming weeks.\n",
        "\n",
        "Whether you’re new to Python or looking to solidify your understanding, this task will set the stage for everything we’ll cover throughout the learning period.\n",
        "\n",
        "Please don’t hesitate to reach out with any questions. We’re here to support you every step of the way.\n",
        "\n",
        "Let’s dive in and start coding!"
      ]
    },
    {
      "cell_type": "markdown",
      "metadata": {
        "id": "2hsWkr1yGqmH"
      },
      "source": [
        "## **NOTE:**\n",
        "\n",
        "**Copy this notebook to your own drive (click on 'File' option in the NavBar' and select 'Save a copy in Drive') and then run the notebook and make whatever changes you want on it. Once you have finished the task, push the notebook to a GitHub repository named 'ACM\\_24_task\\_1'.**"
      ]
    },
    {
      "cell_type": "markdown",
      "metadata": {
        "id": "XY4yMkngKWv6"
      },
      "source": [
        "## Colab Notebook Execution"
      ]
    },
    {
      "cell_type": "markdown",
      "metadata": {
        "id": "fLk-YXApKGD7"
      },
      "source": [
        "We will use Jupyter notebooks and Google colab as the primary way to practice machine learning. Notebooks are a great way to mix executable code with rich contents (HTML, images, equations written in LaTeX). Colab allows to run notebooks on the cloud for free without any prior installation, while leveraging the power of [GPUs](https://en.wikipedia.org/wiki/Graphics_processing_unit)."
      ]
    },
    {
      "cell_type": "markdown",
      "metadata": {
        "id": "3WU0qHuqKQXQ"
      },
      "source": [
        "The document that you are reading is not a static web page, but an interactive environment called a notebook, that lets you write and execute code. Notebooks consist of so-called code cells, blocks of one or more Python instructions. For example, here is a code cell that stores the result of a computation (the number of seconds in a day) in a variable and prints its value:"
      ]
    },
    {
      "cell_type": "code",
      "execution_count": null,
      "metadata": {
        "colab": {
          "base_uri": "https://localhost:8080/"
        },
        "id": "YMkzXOXyKU_o",
        "outputId": "af381491-8849-4a5b-f583-30c5664a0fec"
      },
      "outputs": [
        {
          "output_type": "execute_result",
          "data": {
            "text/plain": [
              "86400"
            ]
          },
          "metadata": {},
          "execution_count": 1
        }
      ],
      "source": [
        "seconds_in_a_day = 24 * 60 * 60\n",
        "seconds_in_a_day"
      ]
    },
    {
      "cell_type": "markdown",
      "metadata": {
        "id": "SJ1jX0XiKfk6"
      },
      "source": [
        "Click on the \"play\" button to execute the cell. You should be able to see the result. Alternatively, you can also execute the cell by pressing Ctrl + Enter if you are on Windows / Linux or Command + Enter if you are on a Mac."
      ]
    },
    {
      "cell_type": "markdown",
      "metadata": {
        "id": "aURtzRhqI9au"
      },
      "source": [
        "## I/O"
      ]
    },
    {
      "cell_type": "code",
      "execution_count": null,
      "metadata": {
        "colab": {
          "base_uri": "https://localhost:8080/"
        },
        "id": "8k_e19mRFcsk",
        "outputId": "f5f7b568-bc51-4131-b8f1-1f924f6f6fdb"
      },
      "outputs": [
        {
          "output_type": "stream",
          "name": "stdout",
          "text": [
            "What is your name? Ankit\n",
            "Hello, Ankit\n"
          ]
        }
      ],
      "source": [
        "name = input(\"What is your name? \") # String input\n",
        "print(\"Hello,\", name)"
      ]
    },
    {
      "cell_type": "code",
      "execution_count": null,
      "metadata": {
        "colab": {
          "base_uri": "https://localhost:8080/"
        },
        "id": "WAfUg1_5JLjL",
        "outputId": "9f8fdfee-5589-4c19-976a-1473e9916da0"
      },
      "outputs": [
        {
          "name": "stdout",
          "output_type": "stream",
          "text": [
            "When were you born? 1980\n",
            "You are 44 years old.\n"
          ]
        }
      ],
      "source": [
        "dob = int(input(\"When were you born? \")) # Integer input (try removing the int() function and see what happens!)\n",
        "print(\"You are\", 2024 - dob, \"years old.\") # Like integer, you can do above for other data types like float as well"
      ]
    },
    {
      "cell_type": "code",
      "execution_count": null,
      "metadata": {
        "colab": {
          "base_uri": "https://localhost:8080/"
        },
        "id": "YfjihY8jJVvX",
        "outputId": "d86a791d-10f3-4955-e66a-00053a83486c"
      },
      "outputs": [
        {
          "name": "stdout",
          "output_type": "stream",
          "text": [
            "You are 44 years old.\n",
            "You are 44 years old.\n",
            "You are 44 years old.\n"
          ]
        }
      ],
      "source": [
        "## Different ways to print\n",
        "age = 2024 - dob\n",
        "print(\"You are\", age, \"years old.\") # Simplest way to print\n",
        "print(\"You are \" + str(age) + \" years old.\") # Via String Concatenation\n",
        "print(f\"You are {age} years old.\") # Via f-strings (introduced in python 3.6)"
      ]
    },
    {
      "cell_type": "code",
      "execution_count": null,
      "metadata": {
        "colab": {
          "base_uri": "https://localhost:8080/"
        },
        "id": "rX9WPxH4NaXA",
        "outputId": "690d30b5-0dff-4b8f-d98f-a3c2a06320df"
      },
      "outputs": [
        {
          "name": "stdout",
          "output_type": "stream",
          "text": [
            "I am a ACM Mentee. I am a DJ Sanghvi student.\n"
          ]
        }
      ],
      "source": [
        "print(\"I am a ACM Mentee.\", end=\" \") # Change print output from newline to single space.\n",
        "print(\"I am a DJ Sanghvi student.\")"
      ]
    },
    {
      "cell_type": "markdown",
      "metadata": {
        "id": "b0zUMF2T75_F"
      },
      "source": [
        "**Exercise Time**\n",
        "\n",
        "- Ask the user to enter their first name.\n",
        "- Store the input in a variable named first_name.\n",
        "- Print a greeting message using the first_name variable.\n",
        "- Experiment with different ways to format the output:\n",
        "  - Using f-strings\n",
        "  - Using the format() method\n",
        "  - Using the % operator"
      ]
    },
    {
      "cell_type": "code",
      "execution_count": null,
      "metadata": {
        "colab": {
          "base_uri": "https://localhost:8080/"
        },
        "id": "ECZrVnJ59lU7",
        "outputId": "6504ad4f-4b14-4d2c-bce0-5eb1f23271c3"
      },
      "outputs": [
        {
          "name": "stdout",
          "output_type": "stream",
          "text": [
            "What is your first name? Ankit\n",
            "Hello, Ankit\n",
            "Hello, Ankit\n",
            "Hello, Ankit\n"
          ]
        }
      ],
      "source": [
        "first_name=input(\"What is your first name? \")\n",
        "print(f\"Hello, {first_name}\")\n",
        "greeting = \"Hello, {fname}\".format(fname=first_name)\n",
        "print(greeting)\n",
        "print(\"Hello, %s\" % first_name)"
      ]
    },
    {
      "cell_type": "markdown",
      "metadata": {
        "id": "3gdWYiPPLBk9"
      },
      "source": [
        "## Expressions and Data Types"
      ]
    },
    {
      "cell_type": "markdown",
      "metadata": {
        "id": "LLRf2ADVLPeB"
      },
      "source": [
        "Python offers a rich set of data types including numbers, strings, lists, dictionaries, and more, each serving specific data handling needs. As a dynamic language, Python determines the data type of a variable at runtime, providing flexibility in assigning different data types to the same variable without explicit declaration.\n",
        "So no need of writing data types of each and every variable. Python is smart enough to figure out on it's own! You can find the type of variables via the type() function. Some common data types you will mostly use are:\n",
        "\n",
        "* Numbers\n",
        "  * integers\n",
        "  * floating-point\n",
        "  * complex numbers\n",
        "* strings\n",
        "* boolean values\n",
        "* lists and dicts"
      ]
    },
    {
      "cell_type": "code",
      "execution_count": null,
      "metadata": {
        "colab": {
          "base_uri": "https://localhost:8080/"
        },
        "id": "5_iXm6qxLQQU",
        "outputId": "6342d95a-18c3-4cd5-dac5-c182fa71d9eb"
      },
      "outputs": [
        {
          "data": {
            "text/plain": [
              "15.5"
            ]
          },
          "execution_count": 7,
          "metadata": {},
          "output_type": "execute_result"
        }
      ],
      "source": [
        "12 + 3.5 # addition"
      ]
    },
    {
      "cell_type": "code",
      "execution_count": null,
      "metadata": {
        "colab": {
          "base_uri": "https://localhost:8080/"
        },
        "id": "61mDjvu3LZ3o",
        "outputId": "52f141fd-f5a0-4009-91ee-ab11a26adad8"
      },
      "outputs": [
        {
          "data": {
            "text/plain": [
              "-4.1"
            ]
          },
          "execution_count": 8,
          "metadata": {},
          "output_type": "execute_result"
        }
      ],
      "source": [
        "5 - 9.1 # subtraction"
      ]
    },
    {
      "cell_type": "code",
      "execution_count": null,
      "metadata": {
        "colab": {
          "base_uri": "https://localhost:8080/"
        },
        "id": "dIBpNK-dLd6O",
        "outputId": "73e09d1d-d9ef-477c-caf3-317fb6e53ed5"
      },
      "outputs": [
        {
          "data": {
            "text/plain": [
              "12.4"
            ]
          },
          "execution_count": 9,
          "metadata": {},
          "output_type": "execute_result"
        }
      ],
      "source": [
        "3.1 * 4 # multiplication"
      ]
    },
    {
      "cell_type": "code",
      "execution_count": null,
      "metadata": {
        "colab": {
          "base_uri": "https://localhost:8080/"
        },
        "id": "19Wyx0G1LiQY",
        "outputId": "6200ad42-5d52-4e59-82b7-16945effac97"
      },
      "outputs": [
        {
          "data": {
            "text/plain": [
              "4.333333333333333"
            ]
          },
          "execution_count": 10,
          "metadata": {},
          "output_type": "execute_result"
        }
      ],
      "source": [
        "13 / 3 # division"
      ]
    },
    {
      "cell_type": "code",
      "execution_count": null,
      "metadata": {
        "colab": {
          "base_uri": "https://localhost:8080/"
        },
        "id": "CDZEqq_eO9yk",
        "outputId": "a1934396-d142-4343-807e-6567fdbae1b9"
      },
      "outputs": [
        {
          "data": {
            "text/plain": [
              "4.33"
            ]
          },
          "execution_count": 11,
          "metadata": {},
          "output_type": "execute_result"
        }
      ],
      "source": [
        "round(13 / 3, 2) # rounding off"
      ]
    },
    {
      "cell_type": "code",
      "execution_count": null,
      "metadata": {
        "colab": {
          "base_uri": "https://localhost:8080/"
        },
        "id": "LGSCdVDeLlcy",
        "outputId": "5b891797-7653-4809-a6b2-6fd4feb804c2"
      },
      "outputs": [
        {
          "data": {
            "text/plain": [
              "6.25"
            ]
          },
          "execution_count": 14,
          "metadata": {},
          "output_type": "execute_result"
        }
      ],
      "source": [
        "2.5 ** 2 # exponentiation"
      ]
    },
    {
      "cell_type": "code",
      "execution_count": null,
      "metadata": {
        "colab": {
          "base_uri": "https://localhost:8080/"
        },
        "id": "DtkDL0zyM-0E",
        "outputId": "207d3aa8-6608-4bca-b7fe-1ff53a00d89c"
      },
      "outputs": [
        {
          "data": {
            "text/plain": [
              "(5+3j)"
            ]
          },
          "execution_count": 13,
          "metadata": {},
          "output_type": "execute_result"
        }
      ],
      "source": [
        "5 + 3j # complex number"
      ]
    },
    {
      "cell_type": "markdown",
      "metadata": {
        "id": "aZRdsLCmPOeQ"
      },
      "source": [
        "## Conditionals"
      ]
    },
    {
      "cell_type": "code",
      "execution_count": null,
      "metadata": {
        "colab": {
          "base_uri": "https://localhost:8080/"
        },
        "id": "W5ae1vlyPQuN",
        "outputId": "44d9e271-4c55-4b74-d1e7-eca2a8db9c66"
      },
      "outputs": [
        {
          "name": "stdout",
          "output_type": "stream",
          "text": [
            "Score: 65\n",
            "Grade: D\n"
          ]
        }
      ],
      "source": [
        "## if-else statements (note that we use elif instead of else if)\n",
        "score = int(input(\"Score: \"))\n",
        "\n",
        "if 90 <= score <= 100:\n",
        "    print(\"Grade: A\")\n",
        "elif 80 <= score < 90:\n",
        "    print(\"Grade: B\")\n",
        "elif 70 <= score < 80:\n",
        "    print(\"Grade: C\")\n",
        "elif 60 <= score < 70:\n",
        "    print(\"Grade: D\")\n",
        "else:\n",
        "    print(\"Grade: F\")"
      ]
    },
    {
      "cell_type": "markdown",
      "metadata": {
        "id": "dXDEHf7ZQcw6"
      },
      "source": [
        "In the programming world, there are types of programming that are called “Pythonic” in nature. That is, there are ways to program that are sometimes only seen in Python programming. Notice that this statement in our code is almost like a sentence in English. This is a unique way of coding only seen in Python."
      ]
    },
    {
      "cell_type": "code",
      "execution_count": null,
      "metadata": {
        "colab": {
          "base_uri": "https://localhost:8080/"
        },
        "id": "B3xeHzCkQEBw",
        "outputId": "cddc1bb1-60bd-48eb-a091-0ddeca4db23b"
      },
      "outputs": [
        {
          "name": "stdout",
          "output_type": "stream",
          "text": [
            "You are eligible to vote\n"
          ]
        }
      ],
      "source": [
        "print(\"You are eligible to vote\" if dob <= 2006 else \"You are not eligible to vote\")"
      ]
    },
    {
      "cell_type": "code",
      "execution_count": null,
      "metadata": {
        "colab": {
          "base_uri": "https://localhost:8080/"
        },
        "id": "GBvnb76VQyvB",
        "outputId": "41b55c7b-244b-401f-8eb2-49ce317e0066"
      },
      "outputs": [
        {
          "name": "stdout",
          "output_type": "stream",
          "text": [
            "What's your name? Draco\n",
            "Slytherin\n"
          ]
        }
      ],
      "source": [
        "# Instead of switch, we use match in python. (Note how instead of default, we have used case _)\n",
        "name = input(\"What's your name? \")\n",
        "\n",
        "match name:\n",
        "    case \"Harry\":\n",
        "        print(\"Gryffindor\")\n",
        "    case \"Hermione\":\n",
        "        print(\"Gryffindor\")\n",
        "    case \"Ron\":\n",
        "        print(\"Gryffindor\")\n",
        "    case \"Draco\":\n",
        "        print(\"Slytherin\")\n",
        "    case _:\n",
        "        print(\"Who?\")"
      ]
    },
    {
      "cell_type": "markdown",
      "metadata": {
        "id": "qa9p25gNRa6F"
      },
      "source": [
        "There is some redundancy in the above code. See how I have [refactored](https://www.agilealliance.org/glossary/refactoring/) the code:"
      ]
    },
    {
      "cell_type": "code",
      "execution_count": null,
      "metadata": {
        "colab": {
          "base_uri": "https://localhost:8080/"
        },
        "id": "OclOLSbHRCi6",
        "outputId": "7af14ee8-5123-43ea-acff-9de7ccf648d9"
      },
      "outputs": [
        {
          "name": "stdout",
          "output_type": "stream",
          "text": [
            "What's your name? Neville\n",
            "Who?\n"
          ]
        }
      ],
      "source": [
        "name = input(\"What's your name? \")\n",
        "\n",
        "match name:\n",
        "    case \"Harry\" | \"Hermione\" | \"Ron\":\n",
        "        print(\"Gryffindor\")\n",
        "    case \"Draco\":\n",
        "        print(\"Slytherin\")\n",
        "    case _:\n",
        "        print(\"Who?\")\n",
        "\n",
        "# Notice, the use of the single vertical bar |. This allows us to check for multiple values in the same case statement."
      ]
    },
    {
      "cell_type": "markdown",
      "metadata": {
        "id": "tqUhvc2WIkdJ"
      },
      "source": [
        "**Exercise Time**\n",
        "\n",
        "Scenario:\n",
        "You are a budding potioneer at Hogwarts. You need to create a potion of a specific strength. The strength of a potion is determined by the ratio of its ingredients.\n",
        "\n",
        "Instructions:\n",
        "\n",
        "Gather ingredients:\n",
        "\n",
        "- Ask the user to input the quantity of two ingredients (e.g., Snape's Special Spice and Newt's Nodule Extract).\n",
        "- Store these values as numerical variables.\n",
        "\n",
        "Calculate potion strength:\n",
        "\n",
        "The potion strength is calculated as the ratio of Snape's Special Spice to the total quantity of both ingredients.\n",
        "Calculate and store the potion strength as a percentage.\n",
        "Determine potion quality:\n",
        "\n",
        "- If the potion strength is between 30% and 70%, print \"Acceptable Potion\".\n",
        "- If the potion strength is less than 30%, print \"Potion is too weak!\".\n",
        "- If the potion strength is greater than 70%, print \"Potion is too strong!\"."
      ]
    },
    {
      "cell_type": "code",
      "execution_count": null,
      "metadata": {
        "colab": {
          "base_uri": "https://localhost:8080/"
        },
        "id": "OnbpQWQWIhN5",
        "outputId": "20408a2b-1b14-4e98-bb7c-9ae39d39a2ef"
      },
      "outputs": [
        {
          "name": "stdout",
          "output_type": "stream",
          "text": [
            "What is the quantity of Snape's Special Spice? -1\n",
            "What is the quantity of Newt's Nodule Extract? 2\n",
            "Enter proper ingredient quantity.\n"
          ]
        }
      ],
      "source": [
        "quant_s = int(input(\"What is the quantity of Snape's Special Spice? \"))\n",
        "quant_n = int(input(\"What is the quantity of Newt's Nodule Extract? \"))\n",
        "potion_str = quant_s/(quant_s + quant_n)*100\n",
        "if potion_str < 0 or potion_str > 100:\n",
        "  print(\"Enter proper ingredient quantity.\")\n",
        "elif potion_str < 30:\n",
        "  print(\"Potion is too weak!\")\n",
        "elif potion_str <= 70:\n",
        "  print(\"Acceptable Potion.\")\n",
        "elif potion_str <= 100:\n",
        "  print(\"Potion is too strong!\")"
      ]
    },
    {
      "cell_type": "markdown",
      "metadata": {
        "id": "gBkfsuefSZzf"
      },
      "source": [
        "## Loops"
      ]
    },
    {
      "cell_type": "code",
      "execution_count": null,
      "metadata": {
        "colab": {
          "base_uri": "https://localhost:8080/"
        },
        "id": "ehePei0eSbRr",
        "outputId": "7a3f4e80-35d9-475c-9498-9e0239575279"
      },
      "outputs": [
        {
          "name": "stdout",
          "output_type": "stream",
          "text": [
            "meow\n",
            "meow\n",
            "meow\n"
          ]
        }
      ],
      "source": [
        "# while loop remains the same as always\n",
        "i = 3\n",
        "while i != 0:\n",
        "  print(\"meow\")\n",
        "  i = i - 1"
      ]
    },
    {
      "cell_type": "markdown",
      "metadata": {
        "id": "Sc-qvLHRSwkt"
      },
      "source": [
        "There is a major change in how we write for loops. To best understand a for loop, it’s best to begin by talking about a new variable type called a list in Python. As in other areas of our lives, we can have a grocery list, a to-do list, etc. A for loop iterates through a list of items."
      ]
    },
    {
      "cell_type": "code",
      "execution_count": null,
      "metadata": {
        "colab": {
          "base_uri": "https://localhost:8080/"
        },
        "id": "Ptn9cDVnS6Y9",
        "outputId": "94b387fa-7be3-4383-a4fc-c55700e54b42"
      },
      "outputs": [
        {
          "name": "stdout",
          "output_type": "stream",
          "text": [
            "meow\n",
            "meow\n",
            "meow\n"
          ]
        }
      ],
      "source": [
        "for i in [0, 1, 2]: # here [0, 1, 2] is a list (similar to arrays)\n",
        "    print(\"meow\")"
      ]
    },
    {
      "cell_type": "markdown",
      "metadata": {
        "id": "kMNAw7vFTOVf"
      },
      "source": [
        "However, what if you wanted to iterate up to a million? It’s best to create code that can work with such extreme cases."
      ]
    },
    {
      "cell_type": "code",
      "execution_count": null,
      "metadata": {
        "colab": {
          "base_uri": "https://localhost:8080/"
        },
        "id": "ObxQIF37TNlx",
        "outputId": "bdd19a3b-3dc2-428b-eab7-d5db1ad074c1"
      },
      "outputs": [
        {
          "name": "stdout",
          "output_type": "stream",
          "text": [
            "0, 1, 2, "
          ]
        }
      ],
      "source": [
        "for i in range(3):\n",
        "    print(i, end=\", \") # note how execution starts from 0"
      ]
    },
    {
      "cell_type": "markdown",
      "metadata": {
        "id": "DkVZR9sPVUgY"
      },
      "source": [
        "What if I want to print numbers from 5 to 11 skipping even numbers? Consider the below code:"
      ]
    },
    {
      "cell_type": "code",
      "execution_count": null,
      "metadata": {
        "colab": {
          "base_uri": "https://localhost:8080/"
        },
        "id": "5Alfdb_SVT9g",
        "outputId": "656acaef-6db0-4bed-9a29-53def9531ca8"
      },
      "outputs": [
        {
          "name": "stdout",
          "output_type": "stream",
          "text": [
            "5, 7, 9, 11, "
          ]
        }
      ],
      "source": [
        "for i in range(5, 12, 2):\n",
        "    print(i, end=\", \")\n",
        "\n",
        "# The first parameter is the initial value, second is when the loop should stop (it will stop one number before it)\n",
        "# and the third is how should the variable be incremented/decremented/changed (this is skippable, python will default to 1)"
      ]
    },
    {
      "cell_type": "markdown",
      "metadata": {
        "id": "L9ZUnsPcUc5e"
      },
      "source": [
        "In Python, if a variable does not have any other significance in our code, we can simply represent this variable as a single underscore _."
      ]
    },
    {
      "cell_type": "code",
      "execution_count": null,
      "metadata": {
        "colab": {
          "base_uri": "https://localhost:8080/"
        },
        "id": "Hsei-YmsUcLC",
        "outputId": "ec7f9b27-14c7-4a4a-e35b-57af2c2f54d3"
      },
      "outputs": [
        {
          "name": "stdout",
          "output_type": "stream",
          "text": [
            "meow\n",
            "meow\n",
            "meow\n"
          ]
        }
      ],
      "source": [
        "for _ in range(3):\n",
        "    print(\"meow\")"
      ]
    },
    {
      "cell_type": "markdown",
      "metadata": {
        "id": "649L4MqlUv_0"
      },
      "source": [
        "To stretch your mind to the possibilities within Python, consider the following code:"
      ]
    },
    {
      "cell_type": "code",
      "execution_count": null,
      "metadata": {
        "colab": {
          "base_uri": "https://localhost:8080/"
        },
        "id": "jzSF6sLDUiYv",
        "outputId": "114a1675-629d-461e-e184-ef1e7fba9073"
      },
      "outputs": [
        {
          "name": "stdout",
          "output_type": "stream",
          "text": [
            "meowmeowmeow\n"
          ]
        }
      ],
      "source": [
        "print(\"meow\" * 3)"
      ]
    },
    {
      "cell_type": "markdown",
      "metadata": {
        "id": "UnqmDD9SUtwZ"
      },
      "source": [
        "**Excerise Time**\n",
        "\n",
        "Notice how the above code will meow three times, but the program will produce meowmeowmeow as the result. Consider: How could you create a line break at the end of each meow?"
      ]
    },
    {
      "cell_type": "code",
      "execution_count": null,
      "metadata": {
        "colab": {
          "base_uri": "https://localhost:8080/"
        },
        "id": "Pt_F6fPVVAMq",
        "outputId": "e837cab1-c6b5-4149-ae86-414b9bba1e4a"
      },
      "outputs": [
        {
          "name": "stdout",
          "output_type": "stream",
          "text": [
            "meow\n",
            "meow\n",
            "meow\n",
            "\n"
          ]
        }
      ],
      "source": [
        "print(\"meow\\n\" * 3)"
      ]
    },
    {
      "cell_type": "markdown",
      "metadata": {
        "id": "Kw2qoGjoXyHJ"
      },
      "source": [
        "## Lists"
      ]
    },
    {
      "cell_type": "markdown",
      "metadata": {
        "id": "aVNVVPFIY7OW"
      },
      "source": [
        "You might wonder why we did not use the _ designation as discussed prior. We choose not to do this because student is explicitly used in our code. You can learn more in Python’s documentation of [lists](https://docs.python.org/3/tutorial/datastructures.html#more-on-lists)."
      ]
    },
    {
      "cell_type": "code",
      "execution_count": null,
      "metadata": {
        "colab": {
          "base_uri": "https://localhost:8080/"
        },
        "id": "THLFCSx9X27H",
        "outputId": "55f5eeb1-e330-4fa2-957e-89aa5a75712d"
      },
      "outputs": [
        {
          "name": "stdout",
          "output_type": "stream",
          "text": [
            "Hermoine\n",
            "Harry\n",
            "Ron\n"
          ]
        }
      ],
      "source": [
        "students = [\"Hermoine\", \"Harry\", \"Ron\"]\n",
        "\n",
        "for student in students:\n",
        "    print(student)"
      ]
    },
    {
      "cell_type": "markdown",
      "metadata": {
        "id": "2hqHVMX_Y2YK"
      },
      "source": [
        "Notice how executing this code results in not only getting the position of each student plus one using i + 1, but also prints the name of each student. len allows you to dynamically see how long the list of the students is regardless of how much it grows."
      ]
    },
    {
      "cell_type": "code",
      "execution_count": null,
      "metadata": {
        "colab": {
          "base_uri": "https://localhost:8080/"
        },
        "id": "D_4Bvos4YU_C",
        "outputId": "39a8c776-0552-4065-f278-bfff9d672474"
      },
      "outputs": [
        {
          "name": "stdout",
          "output_type": "stream",
          "text": [
            "1 Hermoine\n",
            "2 Harry\n",
            "3 Ron\n"
          ]
        }
      ],
      "source": [
        "students = [\"Hermoine\", \"Harry\", \"Ron\"]\n",
        "\n",
        "for i in range(len(students)):\n",
        "    print(i + 1, students[i])"
      ]
    },
    {
      "cell_type": "code",
      "execution_count": null,
      "metadata": {
        "colab": {
          "base_uri": "https://localhost:8080/"
        },
        "id": "4ZYTNrWKZJLN",
        "outputId": "faeb1f15-28fb-4ac8-e244-c94f3549e30d"
      },
      "outputs": [
        {
          "name": "stdout",
          "output_type": "stream",
          "text": [
            "[1, 2, 3, 4]\n",
            "[2, 3]\n",
            "[2, 3, 4]\n",
            "False\n"
          ]
        }
      ],
      "source": [
        "# Some inbuilt list functions:\n",
        "\n",
        "my_list = [1, 2, 3]\n",
        "my_list.append(4) # adds 4 to the end of the list\n",
        "print(my_list)\n",
        "print(my_list[1:3]) # prints the second and third element of the list\n",
        "print(my_list[1:]) # prints the second element to the end of the list\n",
        "print(5 in my_list) # checks if 5 is in the list"
      ]
    },
    {
      "cell_type": "markdown",
      "metadata": {
        "id": "9x9N1qrxnuDa"
      },
      "source": [
        "\"List comprehension\" is the idea of writing some code inside of a list that will generate a list."
      ]
    },
    {
      "cell_type": "code",
      "execution_count": null,
      "metadata": {
        "colab": {
          "base_uri": "https://localhost:8080/"
        },
        "id": "MNX_1dBenut-",
        "outputId": "729fef66-a72f-45f9-cbe5-b1da4a51c9e4"
      },
      "outputs": [
        {
          "data": {
            "text/plain": [
              "[0, 1, 4, 9, 16, 25, 36, 49, 64, 81]"
            ]
          },
          "execution_count": 29,
          "metadata": {},
          "output_type": "execute_result"
        }
      ],
      "source": [
        "[x ** 2 for x in range(10)]"
      ]
    },
    {
      "cell_type": "markdown",
      "metadata": {
        "id": "wasPBk3gI11l"
      },
      "source": [
        "**Exercise Time**\n",
        "\n",
        "- Prepare a list of questions related to personality traits, values, and preferences.\n",
        "- Each question should have multiple answer options.\n",
        "- Example questions:\n",
        "  - What kind of course would you be best in? (Charms, Herbology, Defense Against the Dark Arts, Potions)\n",
        "  - Which animal do you instinctively trust? (Dog, Cat, Owl, Horse)\n",
        "  - Which house spirit would be your friend? (Dobby, Kreacher, Pixies)\n",
        "\n",
        "- Present each question to the user and allow them to input their answer.\n",
        "- Store the answers in a list.\n",
        "- Assign points to each answer based on how it aligns with the characteristics of each Hogwarts house (Gryffindor, Hufflepuff, Ravenclaw, Slytherin).\n",
        "- Calculate the total points for each house.\n",
        "- Find the house with the highest point total.\n",
        "- Print the user's assigned Hogwarts house."
      ]
    },
    {
      "cell_type": "code",
      "execution_count": null,
      "metadata": {
        "colab": {
          "base_uri": "https://localhost:8080/"
        },
        "id": "DfJBNeeGJViI",
        "outputId": "e0d72297-dc96-47a0-8da8-6daeaa74af27"
      },
      "outputs": [
        {
          "name": "stdout",
          "output_type": "stream",
          "text": [
            "What motivates you the most in life? (Success, Helping, Knowledge, Adventure) Success\n",
            "How do you handle challenges? (Determination, Analysis, Collaboration, Strategy) Determination\n",
            "What environment do you thrive in? (Competitive, Supportive, Focused, Unpredictable) Focused\n",
            "How do you make important decisions? (Instinct, Logic, Consultation, Strategy) Consultion\n",
            "What is your approach to learning new skills? (Doing, Research, Collaboration, Efficiency) h\n",
            "You are assigned Gryffindor\n",
            "1 1 1 0\n"
          ]
        }
      ],
      "source": [
        "g=s=r=h=0\n",
        "answers_list=[]\n",
        "questions_list = [\n",
        "    \"What motivates you the most in life? (Success, Helping, Knowledge, Adventure) \",\n",
        "    \"How do you handle challenges? (Determination, Analysis, Collaboration, Strategy) \",\n",
        "    \"What environment do you thrive in? (Competitive, Supportive, Focused, Unpredictable) \",\n",
        "    \"How do you make important decisions? (Instinct, Logic, Consultation, Strategy) \",\n",
        "    \"What is your approach to learning new skills? (Doing, Research, Collaboration, Efficiency) \"\n",
        "]\n",
        "gryffindor_list = [\"Adventure\", \"Determination\", \"Unpredictable\", \"Instinct\", \"Doing\"]\n",
        "slytherin_list = [\"Success\", \"Strategy\", \"Competitive\", \"Efficiency\"]\n",
        "ravenclaw_list = [\"Knowledge\", \"Analysis\", \"Focused\", \"Logic\", \"Research\"]\n",
        "hufflepuff_list = [\"Helping\", \"Collaboration\", \"Supportive\", \"Consultation\"]\n",
        "\n",
        "for i in range(len(questions_list)):\n",
        "  answers_list.append(input(questions_list[i]))\n",
        "  if answers_list[i] in gryffindor_list:\n",
        "    g+=1\n",
        "  elif answers_list[i] in slytherin_list:\n",
        "    s+=1\n",
        "  elif answers_list[i] in ravenclaw_list:\n",
        "    r+=1\n",
        "  elif answers_list[i] in hufflepuff_list:\n",
        "    h+=1\n",
        "\n",
        "if g>=s and g>=r and g>=h:\n",
        "  print(\"You are assigned Gryffindor\")\n",
        "elif s>=g and s>=r and s>=h:\n",
        "  print(\"You are assigned Gryffindor\")\n",
        "elif r>=g and r>=s and r>=h:\n",
        "  print(\"You are assigned Gryffindor\")\n",
        "elif h>=g and h>=s and h>=r:\n",
        "  print(\"You are assigned Gryffindor\")\n",
        "\n",
        "print(g, s, r, h)"
      ]
    },
    {
      "cell_type": "markdown",
      "metadata": {
        "id": "zOT357PWZxVy"
      },
      "source": [
        "## Dictionaries"
      ]
    },
    {
      "cell_type": "markdown",
      "metadata": {
        "id": "j03rXyabZ2hF"
      },
      "source": [
        "dicts or dictionaries is a data structure that allows you to associate keys with values.\n",
        "Where a list is a list of multiple values, a dict associates a key with a value."
      ]
    },
    {
      "cell_type": "code",
      "execution_count": null,
      "metadata": {
        "colab": {
          "base_uri": "https://localhost:8080/"
        },
        "id": "EqytEo4uZMUz",
        "outputId": "9e06b8e3-4796-4035-c653-9458520ec504"
      },
      "outputs": [
        {
          "name": "stdout",
          "output_type": "stream",
          "text": [
            "Gryffindor\n",
            "Gryffindor\n",
            "Gryffindor\n",
            "Slytherin\n"
          ]
        }
      ],
      "source": [
        "students = {\n",
        "    \"Hermoine\": \"Gryffindor\",\n",
        "    \"Harry\": \"Gryffindor\",\n",
        "    \"Ron\": \"Gryffindor\",\n",
        "    \"Draco\": \"Slytherin\",\n",
        "}\n",
        "print(students[\"Hermoine\"])\n",
        "print(students[\"Harry\"])\n",
        "print(students[\"Ron\"])\n",
        "print(students[\"Draco\"])"
      ]
    },
    {
      "cell_type": "markdown",
      "metadata": {
        "id": "RHX7U3hKaHe-"
      },
      "source": [
        "Notice how we use {} curly braces to create a dictionary. Where lists use numbers to iterate through the list, dicts allow us to use words."
      ]
    },
    {
      "cell_type": "code",
      "execution_count": null,
      "metadata": {
        "colab": {
          "base_uri": "https://localhost:8080/"
        },
        "id": "yORG7VNzZ7bt",
        "outputId": "36c0f9e4-28ae-49f0-c851-05cca5234855"
      },
      "outputs": [
        {
          "name": "stdout",
          "output_type": "stream",
          "text": [
            "Hermoine\n",
            "Harry\n",
            "Ron\n",
            "Draco\n"
          ]
        }
      ],
      "source": [
        "for student in students:\n",
        "    print(student)"
      ]
    },
    {
      "cell_type": "markdown",
      "metadata": {
        "id": "NEOTjV9QaM8F"
      },
      "source": [
        "Notice how, executing this code, the for loop will only iterate through all the keys, resulting in a list of the names of the students. How could we print out both values and keys?"
      ]
    },
    {
      "cell_type": "code",
      "execution_count": null,
      "metadata": {
        "colab": {
          "base_uri": "https://localhost:8080/"
        },
        "id": "SiYROj6ZaPUm",
        "outputId": "be5898bf-9aee-4d46-8272-a4e36cc4d415"
      },
      "outputs": [
        {
          "name": "stdout",
          "output_type": "stream",
          "text": [
            "Hermoine, Gryffindor\n",
            "Harry, Gryffindor\n",
            "Ron, Gryffindor\n",
            "Draco, Slytherin\n"
          ]
        }
      ],
      "source": [
        "for student in students:\n",
        "    print(student, students[student], sep=\", \") # sep allows us to alter how different components of a print statement is displayed"
      ]
    },
    {
      "cell_type": "markdown",
      "metadata": {
        "id": "01WVplY0arpa"
      },
      "source": [
        "You can imagine wanting to have lots of data associated with multiple keys."
      ]
    },
    {
      "cell_type": "code",
      "execution_count": null,
      "metadata": {
        "id": "FE36OkLSarEy"
      },
      "outputs": [],
      "source": [
        "students = [\n",
        "    {\"name\": \"Hermoine\", \"house\": \"Gryffindor\", \"patronus\": \"Otter\"},\n",
        "    {\"name\": \"Harry\", \"house\": \"Gryffindor\", \"patronus\": \"Stag\"},\n",
        "    {\"name\": \"Ron\", \"house\": \"Gryffindor\", \"patronus\": \"Jack Russell terrier\"},\n",
        "    {\"name\": \"Draco\", \"house\": \"Slytherin\", \"patronus\": None},\n",
        "]"
      ]
    },
    {
      "cell_type": "markdown",
      "metadata": {
        "id": "dY5WEKBJa0CZ"
      },
      "source": [
        "Notice how the for loop will iterate through each of the dicts inside the list called students.\n",
        "\n",
        "You can learn more in Python’s Documentation of [dicts](https://docs.python.org/3/tutorial/datastructures.html#dictionaries)."
      ]
    },
    {
      "cell_type": "code",
      "execution_count": null,
      "metadata": {
        "colab": {
          "base_uri": "https://localhost:8080/"
        },
        "id": "nk_KE-CBav1v",
        "outputId": "6e021d4d-afcb-4bec-e0ec-83e31e1bf8c4"
      },
      "outputs": [
        {
          "name": "stdout",
          "output_type": "stream",
          "text": [
            "Hermoine, Gryffindor, Otter\n",
            "Harry, Gryffindor, Stag\n",
            "Ron, Gryffindor, Jack Russell terrier\n",
            "Draco, Slytherin, None\n"
          ]
        }
      ],
      "source": [
        "for student in students:\n",
        "    print(student[\"name\"], student[\"house\"], student[\"patronus\"], sep=\", \")"
      ]
    },
    {
      "cell_type": "markdown",
      "metadata": {
        "id": "9HtjTO7sbLNw"
      },
      "source": [
        "What if I want to access only the keys or only the values of the dictionary? We can do the following."
      ]
    },
    {
      "cell_type": "code",
      "execution_count": null,
      "metadata": {
        "colab": {
          "base_uri": "https://localhost:8080/"
        },
        "id": "6xYfGgqKbJfx",
        "outputId": "ecde3745-0b47-4485-a211-e7e5e2196c8b"
      },
      "outputs": [
        {
          "name": "stdout",
          "output_type": "stream",
          "text": [
            "Keys: \n",
            "\tname\n",
            "\thouse\n",
            "\tpatronus\n",
            "Values: \n",
            "\tHermoine\n",
            "\tGryffindor\n",
            "\tOtter\n",
            "Items: \n",
            "\t('name', 'Hermoine')\n",
            "\t('house', 'Gryffindor')\n",
            "\t('patronus', 'Otter')\n"
          ]
        }
      ],
      "source": [
        "print(\"Keys: \")\n",
        "for i in students[0].keys():\n",
        "    print(f\"\\t{i}\")\n",
        "print(\"Values: \")\n",
        "for i in students[0].values():\n",
        "    print(f\"\\t{i}\")\n",
        "print(\"Items: \")\n",
        "for i in students[0].items():\n",
        "    print(f\"\\t{i}\")"
      ]
    },
    {
      "cell_type": "markdown",
      "metadata": {
        "id": "o08LB_nRJy_d"
      },
      "source": [
        "**Exercise Time**\n",
        "- Create a dictionary to represent a Harry Potter character's inventory.\n",
        "- Use item names as keys and quantities as values. (Such as: \"Gold Galleons\": 100, \"Silver Sickles\": 500, \"Bronze Knuts\": 2000, \"Potion Bottles\": 5).\n",
        "- Allow the user to add or remove items from the inventory.\n",
        "- Update the quantity accordingly.\n",
        "- Assign values to each type of currency (e.g., 1 Galleon = 29 Sickles, 1 Sickle = 29 Knuts).\n",
        "- Calculate the total worth of the inventory in Galleons.\n",
        "- Print the contents of the inventory in a formatted manner."
      ]
    },
    {
      "cell_type": "code",
      "execution_count": null,
      "metadata": {
        "colab": {
          "base_uri": "https://localhost:8080/"
        },
        "id": "e5kW3LaPKKsv",
        "outputId": "d556d7eb-c677-4e24-fbc1-c24a0f944484"
      },
      "outputs": [
        {
          "name": "stdout",
          "output_type": "stream",
          "text": [
            "Enter 'update' to update inventory, 'display' to display inventory, 'worth' to show worth, anything else to exit: display\n",
            "('Gold Galleons', 100)\n",
            "('Silver Sickles', 100)\n",
            "('Bronze Knuts', 100)\n",
            "Enter 'update' to update inventory, 'display' to display inventory, 'worth' to show worth, anything else to exit: worth\n",
            "Worth of inventory is 106.08519269776876 gallions.\n",
            "Enter 'update' to update inventory, 'display' to display inventory, 'worth' to show worth, anything else to exit: a\n"
          ]
        }
      ],
      "source": [
        "inventory = {\n",
        "    \"Gold Galleons\": 100,\n",
        "    \"Silver Sickles\": 100,\n",
        "    \"Bronze Knuts\": 100,\n",
        "}\n",
        "g_val=1\n",
        "s_val=1/17\n",
        "b_val=1/493\n",
        "\n",
        "n=input(\"Enter 'update' to update inventory, 'display' to display inventory, 'worth' to show worth, anything else to exit: \")\n",
        "while n==\"update\" or n==\"display\" or n==\"worth\":\n",
        "  match n:\n",
        "    case \"update\":\n",
        "      key = input(\"Enter item to update quanity of: \")\n",
        "      value = int(input(\"Enter quantity: \"))\n",
        "      inventory[key] = value\n",
        "    case \"display\":\n",
        "      for i in inventory.items():\n",
        "        print(i)\n",
        "    case \"worth\":\n",
        "      worth = g_val*inventory[\"Gold Galleons\"] + s_val*inventory['Silver Sickles'] + b_val*inventory['Bronze Knuts']\n",
        "      print(f\"Worth of inventory is {worth} gallions.\")\n",
        "    case _:\n",
        "      print(\"Invalid input.\")\n",
        "  n=input(\"Enter 'update' to update inventory, 'display' to display inventory, 'worth' to show worth, anything else to exit: \")"
      ]
    },
    {
      "cell_type": "markdown",
      "metadata": {
        "id": "H_rnw_40cDsk"
      },
      "source": [
        "## Other Data Types"
      ]
    },
    {
      "cell_type": "markdown",
      "metadata": {
        "id": "EtCbJ8xCkGKH"
      },
      "source": [
        "Tuples are ordered, immutable collections of elements. They are defined using parentheses ()."
      ]
    },
    {
      "cell_type": "code",
      "execution_count": null,
      "metadata": {
        "colab": {
          "base_uri": "https://localhost:8080/"
        },
        "id": "t5kdNQHUkIbL",
        "outputId": "cd4f44c8-eb51-4225-e3f1-67b179028129"
      },
      "outputs": [
        {
          "name": "stdout",
          "output_type": "stream",
          "text": [
            "(1, 2, 'apple', True)\n"
          ]
        }
      ],
      "source": [
        "my_tuple = (1, 2, \"apple\", True)\n",
        "print(my_tuple)\n",
        "# print(my_tuple[0])\n",
        "# mytuple[0]=3\n",
        "# print(my_tuple[0])\n",
        "# try changing the length of the tuple or value of any element in the tuple"
      ]
    },
    {
      "cell_type": "markdown",
      "metadata": {
        "id": "IbRqEFb0kji9"
      },
      "source": [
        "Sets are unordered collections of unique elements. They are defined using curly braces {}. Sets are mutable."
      ]
    },
    {
      "cell_type": "code",
      "execution_count": null,
      "metadata": {
        "colab": {
          "base_uri": "https://localhost:8080/"
        },
        "id": "9hNnTNd5kZC9",
        "outputId": "25ba5a56-0ad7-43c9-8630-d82d797559e7"
      },
      "outputs": [
        {
          "name": "stdout",
          "output_type": "stream",
          "text": [
            "{1, 2, 3}\n",
            "{3}\n",
            "{1, 2, 3, 4, 5}\n",
            "{1, 2}\n"
          ]
        }
      ],
      "source": [
        "my_set = set()\n",
        "my_set.add(1)\n",
        "my_set.add(2)\n",
        "my_set.add(3)\n",
        "my_set.add(2) # won't add duplicate\n",
        "print(my_set)\n",
        "another_set = {3,4,5}\n",
        "print(my_set.intersection(another_set))\n",
        "print(my_set.union(another_set))\n",
        "print(my_set.difference(another_set))"
      ]
    },
    {
      "cell_type": "markdown",
      "metadata": {
        "id": "Hi4RWSdCk3rQ"
      },
      "source": [
        "Frozensets are immutable versions of sets. They are defined using the frozenset() constructor."
      ]
    },
    {
      "cell_type": "code",
      "execution_count": null,
      "metadata": {
        "colab": {
          "base_uri": "https://localhost:8080/"
        },
        "id": "03RkH6xQk52s",
        "outputId": "3e03d184-c83d-421f-fc8c-1c1922426cf5"
      },
      "outputs": [
        {
          "name": "stdout",
          "output_type": "stream",
          "text": [
            "frozenset({1, 2, 3, 'apple'})\n"
          ]
        }
      ],
      "source": [
        "my_frozenset = frozenset({1, 2, 3, \"apple\"})\n",
        "print(my_frozenset)\n",
        "# try changing it in any manner\n",
        "# my_frozenset[0]=1"
      ]
    },
    {
      "cell_type": "markdown",
      "metadata": {
        "id": "Cxwpc2u4cI9y"
      },
      "source": [
        "## Functions"
      ]
    },
    {
      "cell_type": "markdown",
      "metadata": {
        "id": "srIvr421cij7"
      },
      "source": [
        "One great thing about python is no need to define any access specifiers or any other technical jargon while creating our own functions. Just use 'def' and be done with it!"
      ]
    },
    {
      "cell_type": "code",
      "execution_count": null,
      "metadata": {
        "colab": {
          "base_uri": "https://localhost:8080/"
        },
        "id": "yyoi-F2CcMOY",
        "outputId": "a369e7ce-3fcd-435b-a234-726db5a2b6b4"
      },
      "outputs": [
        {
          "name": "stdout",
          "output_type": "stream",
          "text": [
            "hello, hagrid\n",
            "hello, world\n"
          ]
        }
      ],
      "source": [
        "def hello(to=\"world\"): # default parameter implementation done here\n",
        "    print(\"hello,\", to)\n",
        "hello(\"hagrid\")\n",
        "hello()"
      ]
    },
    {
      "cell_type": "code",
      "execution_count": null,
      "metadata": {
        "colab": {
          "base_uri": "https://localhost:8080/"
        },
        "id": "5P-SQ_Cyc9Hh",
        "outputId": "9cbd0074-ba69-49dd-ce29-be9cdeca5b7f"
      },
      "outputs": [
        {
          "name": "stdout",
          "output_type": "stream",
          "text": [
            "What's x? 7\n",
            "x squared is 49\n"
          ]
        }
      ],
      "source": [
        "# returning values is the same as before\n",
        "def main():\n",
        "    x = int(input(\"What's x? \"))\n",
        "    print(\"x squared is\", square(x))\n",
        "\n",
        "def square(n):\n",
        "    return n * n\n",
        "\n",
        "main()"
      ]
    },
    {
      "cell_type": "markdown",
      "metadata": {
        "id": "TcO4hkjWdiF6"
      },
      "source": [
        "**Excerise time**\n",
        "\n",
        "Try to implement the following pattern:\n",
        "\n",
        "A\n",
        "\n",
        "BC\n",
        "\n",
        "DEF\n",
        "\n",
        "GHIJ\n",
        "\n",
        "KLMNO"
      ]
    },
    {
      "cell_type": "code",
      "execution_count": null,
      "metadata": {
        "colab": {
          "base_uri": "https://localhost:8080/"
        },
        "id": "vR4tO3uLdVWf",
        "outputId": "66cd722b-af51-4bf5-b4c1-03b8ed86e77b"
      },
      "outputs": [
        {
          "name": "stdout",
          "output_type": "stream",
          "text": [
            "A\n",
            "BC\n",
            "DEF\n",
            "GHIJ\n",
            "KLMNO\n"
          ]
        }
      ],
      "source": [
        "c=65\n",
        "for i in range(5):\n",
        "  for j in range(i+1):\n",
        "    print(chr(c), end=\"\")\n",
        "    c+=1\n",
        "  print()"
      ]
    },
    {
      "cell_type": "markdown",
      "metadata": {
        "id": "emAemZC3d9Zf"
      },
      "source": [
        "## Important inbuilt functions"
      ]
    },
    {
      "cell_type": "markdown",
      "metadata": {
        "id": "z_-Kf65bfI-C"
      },
      "source": [
        "Lambda is used to create small, anonymous functions. This is important concept in the functional programming paradigm in python. See this [link](https://realpython.com/python-functional-programming/) if feeling comfortable and curious!"
      ]
    },
    {
      "cell_type": "code",
      "execution_count": null,
      "metadata": {
        "colab": {
          "base_uri": "https://localhost:8080/"
        },
        "id": "yifn-TUaetaI",
        "outputId": "bcf72c59-e957-46d1-ad88-b47177e63e6d"
      },
      "outputs": [
        {
          "name": "stdout",
          "output_type": "stream",
          "text": [
            "25\n"
          ]
        }
      ],
      "source": [
        "square = lambda x: x ** 2\n",
        "print(square(5))"
      ]
    },
    {
      "cell_type": "markdown",
      "metadata": {
        "id": "a5h9Y48jgsx7"
      },
      "source": [
        "Map applies a given function to each item of an iterable, returning a new iterable with the results."
      ]
    },
    {
      "cell_type": "code",
      "execution_count": null,
      "metadata": {
        "colab": {
          "base_uri": "https://localhost:8080/"
        },
        "id": "mnZm9dpjfg3S",
        "outputId": "f0fb37f3-3986-4c6c-ce0d-90f6ea6b3228"
      },
      "outputs": [
        {
          "name": "stdout",
          "output_type": "stream",
          "text": [
            "[1, 4, 9, 16, 25]\n"
          ]
        }
      ],
      "source": [
        "numbers = [1, 2, 3, 4, 5]\n",
        "squared_numbers = list(map(lambda x: x ** 2, numbers))\n",
        "print(squared_numbers)"
      ]
    },
    {
      "cell_type": "markdown",
      "metadata": {
        "id": "qIxBKzkjiRO3"
      },
      "source": [
        "Filter creates a new iterable with items from the original that satisfy a given condition."
      ]
    },
    {
      "cell_type": "code",
      "execution_count": null,
      "metadata": {
        "colab": {
          "base_uri": "https://localhost:8080/"
        },
        "id": "owgE--UGiTjS",
        "outputId": "d0c1c398-b335-4ac9-8731-06af74ca8882"
      },
      "outputs": [
        {
          "name": "stdout",
          "output_type": "stream",
          "text": [
            "[2, 4]\n"
          ]
        }
      ],
      "source": [
        "even_numbers = list(filter(lambda x: x % 2 == 0, numbers))\n",
        "print(even_numbers)"
      ]
    },
    {
      "cell_type": "markdown",
      "metadata": {
        "id": "dThe6F8qiI4g"
      },
      "source": [
        "Reduce cumulatively applies a function to the items of an iterable, reducing it to a single value."
      ]
    },
    {
      "cell_type": "code",
      "execution_count": null,
      "metadata": {
        "colab": {
          "base_uri": "https://localhost:8080/"
        },
        "id": "uh2J1xr8iLsX",
        "outputId": "5a18b95a-8c3e-4e31-fa9a-598c5788f151"
      },
      "outputs": [
        {
          "name": "stdout",
          "output_type": "stream",
          "text": [
            "15\n"
          ]
        }
      ],
      "source": [
        "from functools import reduce\n",
        "product = reduce(lambda x, y: x + y, numbers)\n",
        "print(product)"
      ]
    },
    {
      "cell_type": "markdown",
      "metadata": {
        "id": "9orkBAciidR5"
      },
      "source": [
        "Python's math module provides a comprehensive set of mathematical functions, including:\n",
        "\n",
        "Basic arithmetic: abs(), ceil(), floor(), max(), min(), pow(), round(), sqrt()\n",
        "\n",
        "Trigonometric functions: sin(), cos(), tan(), asin(), acos(), atan(), degrees(), radians()\n",
        "\n",
        "Logarithmic and exponential functions: log(), log10(), exp()\n",
        "\n",
        "Number-theoretic functions: factorial(), gcd(), fmod()"
      ]
    },
    {
      "cell_type": "code",
      "execution_count": null,
      "metadata": {
        "colab": {
          "base_uri": "https://localhost:8080/"
        },
        "id": "b8ARCEsJicwX",
        "outputId": "95c3cea7-3d28-45e3-e00e-6526ab5ae672"
      },
      "outputs": [
        {
          "name": "stdout",
          "output_type": "stream",
          "text": [
            "5\n"
          ]
        }
      ],
      "source": [
        "x = -5\n",
        "absolute_value = abs(x)\n",
        "print(absolute_value)"
      ]
    },
    {
      "cell_type": "code",
      "execution_count": null,
      "metadata": {
        "colab": {
          "base_uri": "https://localhost:8080/"
        },
        "id": "vPzizSSLjS5Z",
        "outputId": "2ac99d4f-fbdb-4548-d0f4-0ce9e9c1c6f1"
      },
      "outputs": [
        {
          "name": "stdout",
          "output_type": "stream",
          "text": [
            "3 4\n",
            "12\n"
          ]
        }
      ],
      "source": [
        "import math\n",
        "number = 3.14159\n",
        "rounded_down = math.floor(number)\n",
        "rounded_up = math.ceil(number)\n",
        "print(rounded_down, rounded_up)\n",
        "x = 24\n",
        "y = 36\n",
        "gcd_value = math.gcd(x, y)\n",
        "print(gcd_value)"
      ]
    },
    {
      "cell_type": "markdown",
      "metadata": {
        "id": "H9B5QQ4MP6sL"
      },
      "source": [
        "**Exercise Time**\n",
        "\n",
        "- Define a dictionary for each Avenger containing attributes like name,\n",
        "superpower, strength, intelligence, and speed.\n",
        "- Store these dictionaries in a list.\n",
        "- Use filter or list comprehension to select Avengers based on specific criteria (e.g., strength greater than 4).\n",
        "- Create a new list to represent the assembled team.\n",
        "- Calculate the average strength, intelligence, and speed of the team using reduce.\n",
        "- Find the strongest, smartest, and fastest Avenger on the team.\n",
        "- Create a function that suggests a mission based on the team's overall attributes.\n",
        "- For example, a team with high intelligence might be suggested for a tactical mission."
      ]
    },
    {
      "cell_type": "code",
      "execution_count": null,
      "metadata": {
        "colab": {
          "base_uri": "https://localhost:8080/"
        },
        "id": "GzJYdlIIQQ2R",
        "outputId": "d63a8d11-86d9-45c5-cf1f-6bafc9a57605"
      },
      "outputs": [
        {
          "name": "stdout",
          "output_type": "stream",
          "text": [
            "Average Strength: 6.0\n",
            "Average Intelligence: 6.25\n",
            "Average Speed: 6.0\n",
            "Strongest Avenger in the team: Thor\n",
            "Smartest Avenger in the team: Iron Man\n",
            "Fastest Avenger in the team: Thor\n",
            "Mission Suggestion: The team is best suited for a tactical mission.\n"
          ]
        }
      ],
      "source": [
        "from functools import reduce\n",
        "\n",
        "avengers = [\n",
        "    {\"name\": \"Iron Man\", \"superpower\": \"Powered armor suit\", \"strength\": 7, \"intelligence\": 8, \"speed\": 6},\n",
        "    {\"name\": \"Thor\", \"superpower\": \"God of Thunder\", \"strength\": 8, \"intelligence\": 4, \"speed\": 7},\n",
        "    {\"name\": \"Hulk\", \"superpower\": \"Super strength\", \"strength\": 7, \"intelligence\": 4, \"speed\": 3},\n",
        "    {\"name\": \"Captain America\", \"superpower\": \"Super soldier\", \"strength\": 6, \"intelligence\": 5, \"speed\": 4},\n",
        "    {\"name\": \"Hawkeye\", \"superpower\": \"Master archer\", \"strength\": 3, \"intelligence\": 7, \"speed\": 5},\n",
        "    {\"name\": \"Spider-Man\", \"superpower\": \"Spider abilities\", \"strength\": 6, \"intelligence\": 6, \"speed\": 6},\n",
        "    {\"name\": \"Doctor Strange\", \"superpower\": \"Mystic arts\", \"strength\": 4, \"intelligence\": 7, \"speed\": 4}\n",
        "]\n",
        "\n",
        "assembled_team = [avenger for avenger in avengers if avenger[\"speed\"]>4]\n",
        "\n",
        "def calculate_average(stat):\n",
        "    total = reduce(lambda sum, avenger: sum + avenger[stat], assembled_team, 0)\n",
        "    return total/len(assembled_team)\n",
        "\n",
        "average_strength = calculate_average(\"strength\")\n",
        "average_intelligence = calculate_average(\"intelligence\")\n",
        "average_speed = calculate_average(\"speed\")\n",
        "\n",
        "print(f\"Average Strength: {average_strength}\")\n",
        "print(f\"Average Intelligence: {average_intelligence}\")\n",
        "print(f\"Average Speed: {average_speed}\")\n",
        "\n",
        "def find_max(stat):\n",
        "    return max(assembled_team, key=lambda avenger: avenger[stat])\n",
        "\n",
        "strongest_avenger = find_max(\"strength\")\n",
        "smartest_avenger = find_max(\"intelligence\")\n",
        "fastest_avenger = find_max(\"speed\")\n",
        "\n",
        "print(f\"Strongest Avenger in the team: {strongest_avenger['name']}\")\n",
        "print(f\"Smartest Avenger in the team: {smartest_avenger['name']}\")\n",
        "print(f\"Fastest Avenger in the team: {fastest_avenger['name']}\")\n",
        "\n",
        "def suggest_mission():\n",
        "    if average_intelligence > average_strength and average_intelligence > average_speed:\n",
        "        return \"The team is best suited for a tactical mission.\"\n",
        "    elif average_strength > average_intelligence and average_strength > average_speed:\n",
        "        return \"The team is best suited for a combat mission.\"\n",
        "    elif average_speed > average_intelligence and average_speed > average_strength:\n",
        "        return \"The team is best suited for a high-speed operation.\"\n",
        "    else:\n",
        "        return \"The team can handle a variety of missions.\"\n",
        "\n",
        "mission_suggestion = suggest_mission()\n",
        "print(f\"Mission Suggestion: {mission_suggestion}\")"
      ]
    },
    {
      "cell_type": "markdown",
      "metadata": {
        "id": "Byu7Tzg0QSmI"
      },
      "source": [
        "## Exceptions"
      ]
    },
    {
      "cell_type": "markdown",
      "metadata": {
        "id": "6sld1ZtrQ2Le"
      },
      "source": [
        "Exceptions are things that go wrong within our coding. You can learn more in Python’s documentation of [Errors and Exceptions](https://docs.python.org/3/tutorial/errors.html).\n",
        "\n",
        "\n",
        "In Python try and except are ways of testing out user input before something goes wrong. Try giving 'cat' as input."
      ]
    },
    {
      "cell_type": "code",
      "execution_count": null,
      "metadata": {
        "colab": {
          "base_uri": "https://localhost:8080/"
        },
        "id": "Oo7fhBMQQfv7",
        "outputId": "46774343-476e-46c4-f180-b66e62b3cb1f"
      },
      "outputs": [
        {
          "name": "stdout",
          "output_type": "stream",
          "text": [
            "What's x? 8\n",
            "x is 8\n"
          ]
        }
      ],
      "source": [
        "try:\n",
        "    x = int(input(\"What's x? \"))\n",
        "    print(f\"x is {x}\")\n",
        "except ValueError:\n",
        "    print(\"x is not an integer\")"
      ]
    },
    {
      "cell_type": "markdown",
      "metadata": {
        "id": "-5rbcYu0RowT"
      },
      "source": [
        "This is still not the best way to implement this code.\n",
        "Notice that we are trying to do two lines of code. For best practice, we should only try the fewest lines of code possible that we are concerned could fail. Adjust your code as follows:"
      ]
    },
    {
      "cell_type": "code",
      "execution_count": null,
      "metadata": {
        "colab": {
          "base_uri": "https://localhost:8080/"
        },
        "id": "FMa5N9u6RakE",
        "outputId": "bb0910a2-f03f-4180-9c8b-84d5554396e7"
      },
      "outputs": [
        {
          "name": "stdout",
          "output_type": "stream",
          "text": [
            "What's x? cta\n",
            "x is not an integer\n",
            "x is 2\n"
          ]
        }
      ],
      "source": [
        "# del x\n",
        "try:\n",
        "    x = int(input(\"What's x? \"))\n",
        "except ValueError:\n",
        "    print(\"x is not an integer\")\n",
        "print(f\"x is {x}\")"
      ]
    },
    {
      "cell_type": "markdown",
      "metadata": {
        "id": "JmmfKqQmVKCG"
      },
      "source": [
        "Notice that while this accomplishes our goal of trying as few lines as possible, we now face a new error! We face a NameError where x is not defined (to _undefine_ x, run `del x`). Look at this code and consider: Why is x not defined in some cases?\n",
        "\n",
        "It turns out that there is another way to implement try that could catch errors of this nature. Adjust your code as follows:"
      ]
    },
    {
      "cell_type": "code",
      "execution_count": null,
      "metadata": {
        "colab": {
          "base_uri": "https://localhost:8080/"
        },
        "id": "ooOnY8V2VSMf",
        "outputId": "1df5c6e5-b827-4583-bb72-f20274d1a4ab"
      },
      "outputs": [
        {
          "name": "stdout",
          "output_type": "stream",
          "text": [
            "What's x?2\n",
            "x is 2\n"
          ]
        }
      ],
      "source": [
        "try:\n",
        "    x = int(input(\"What's x? \"))\n",
        "except ValueError:\n",
        "    print(\"x is not an integer\")\n",
        "else:\n",
        "    print(f\"x is {x}\")"
      ]
    },
    {
      "cell_type": "markdown",
      "metadata": {
        "id": "V4loeV3FWKOx"
      },
      "source": [
        "## Regular Expression"
      ]
    },
    {
      "cell_type": "markdown",
      "metadata": {
        "id": "WKeZR_3JWRIm"
      },
      "source": [
        "It turns out that Python has an existing library called re that has a number of built-in functions that can validate user inputs against patterns.\n",
        "One of the most versatile functions within the library re is search.\n",
        "The search library follows the signature re.search(pattern, string, flags=0)."
      ]
    },
    {
      "cell_type": "code",
      "execution_count": null,
      "metadata": {
        "colab": {
          "base_uri": "https://localhost:8080/"
        },
        "id": "QaAVm-Z6WMck",
        "outputId": "022249ed-bc55-4984-d7ad-ff0f5762d569"
      },
      "outputs": [
        {
          "name": "stdout",
          "output_type": "stream",
          "text": [
            "What's your email? star\n",
            "Invalid\n"
          ]
        }
      ],
      "source": [
        "import re\n",
        "\n",
        "email = input(\"What's your email? \").strip()\n",
        "\n",
        "if re.search(\"@\", email):\n",
        "    print(\"Valid\")\n",
        "else:\n",
        "    print(\"Invalid\")"
      ]
    },
    {
      "cell_type": "markdown",
      "metadata": {
        "id": "u5cDIP3_WXIC"
      },
      "source": [
        "We can further our program’s functionality. However, we need to advance our vocabulary around validation. It turns out that in the world of regular expressions there are certain symbols that allow us to identify patterns. At this point, we have only been checking for specific pieces of text like @. It so happens that many special symbols can be passed to the compiler for the purpose of engaging in validation. A non-exhaustive list of those patterns is as follows:\n",
        "\n",
        "\n",
        ".   any character except a new line\n",
        "\n",
        "\\*   0 or more repetitions\n",
        "\n",
        "\\+   1 or more repetitions\n",
        "\n",
        "?   0 or 1 repetition\n",
        "\n",
        "{m} m repetitions\n",
        "\n",
        "{m,n} m-n repetitions"
      ]
    },
    {
      "cell_type": "code",
      "execution_count": null,
      "metadata": {
        "colab": {
          "base_uri": "https://localhost:8080/"
        },
        "id": "OHHfSw9VWWeC",
        "outputId": "8e048caa-6f7c-4f66-aa4d-9c64f349eafd"
      },
      "outputs": [
        {
          "name": "stdout",
          "output_type": "stream",
          "text": [
            "What's your email? @@@.com\n",
            "Valid\n"
          ]
        }
      ],
      "source": [
        "import re\n",
        "\n",
        "email = input(\"What's your email? \").strip()\n",
        "\n",
        "if re.search(r\".+@.+\\.com\", email):\n",
        "    print(\"Valid\")\n",
        "else:\n",
        "    print(\"Invalid\")\n",
        "\n",
        "# Notice how we utilize the “escape character” or \\ as a way of regarding the . as part of our string instead of our validation expression.\n",
        "# Testing your code, you will notice that username@mail.com is regarded as valid, where username@mail?com is invalid."
      ]
    },
    {
      "cell_type": "markdown",
      "metadata": {
        "id": "DVBrvD4RXBHD"
      },
      "source": [
        "This is a good time to introduce “raw strings”. In Python, raw strings are strings that don’t format special characters—instead, each character is taken at face-value. Imagine \\n, for example. We’ve seen in an earlier lecture how, in a regular string, these two characters become one: a special newline character. In a raw string, however, \\n is treated not as \\n, the special character, but as a single \\ and a single n. Placing an r in front of a string tells the Python interpreter to treat the string as a raw string, similar to how placing an f in front of a string tells the Python interpreter to treat the string as a format string:"
      ]
    },
    {
      "cell_type": "code",
      "execution_count": null,
      "metadata": {
        "id": "w0-0zTqiX0TB",
        "colab": {
          "base_uri": "https://localhost:8080/"
        },
        "outputId": "a1fee0b3-a085-4166-f7c5-99bfef7b4c9e"
      },
      "outputs": [
        {
          "output_type": "stream",
          "name": "stdout",
          "text": [
            "What's your email? @@@.com\n",
            "Valid\n"
          ]
        }
      ],
      "source": [
        "import re\n",
        "\n",
        "email = input(\"What's your email? \").strip()\n",
        "\n",
        "if re.search(r\"^.+@.+\\.com$\", email):\n",
        "    print(\"Valid\")\n",
        "else:\n",
        "    print(\"Invalid\")"
      ]
    },
    {
      "cell_type": "markdown",
      "metadata": {
        "id": "9aMuULBFX_F3"
      },
      "source": [
        "You could type in a sentence such as My email address is malan@harvard.edu. and this whole sentence would be considered valid. We can be even more precise in our coding.\n",
        "It just so happens we have more special symbols at our disposal in validation:\n",
        "\n",
        "^   matches the start of the string\n",
        "\n",
        "$   matches the end of the string or just before the newline at the end of the string"
      ]
    },
    {
      "cell_type": "markdown",
      "metadata": {
        "id": "wTzzyw7tYSn6"
      },
      "source": [
        "Recall that within the re.search function, there is a parameter for flags.\n",
        "Some built-in flag variables are:\n",
        "\n",
        "re.IGNORECASE\n",
        "\n",
        "re.MULTILINE\n",
        "\n",
        "re.DOTALL"
      ]
    },
    {
      "cell_type": "code",
      "execution_count": null,
      "metadata": {
        "colab": {
          "base_uri": "https://localhost:8080/"
        },
        "id": "LxXqtAjtYTde",
        "outputId": "3fee3b09-1ce8-4a95-89d9-5a5dc82b7b31"
      },
      "outputs": [
        {
          "output_type": "stream",
          "name": "stdout",
          "text": [
            "What's your email? user@mail.com\n",
            "Valid\n"
          ]
        }
      ],
      "source": [
        "import re\n",
        "\n",
        "email = input(\"What's your email? \").strip()\n",
        "\n",
        "if re.search(r\"^\\w+@\\w+\\.com$\", email, re.IGNORECASE):\n",
        "    print(\"Valid\")\n",
        "else:\n",
        "    print(\"Invalid\")"
      ]
    },
    {
      "cell_type": "markdown",
      "metadata": {
        "id": "yEEulZla-X71"
      },
      "source": [
        "For a quick guide to Regex, refer [this](https://support.google.com/a/answer/1371415)."
      ]
    },
    {
      "cell_type": "markdown",
      "metadata": {
        "id": "xgZNB4SSYhyN"
      },
      "source": [
        "## OOPS"
      ]
    },
    {
      "cell_type": "markdown",
      "metadata": {
        "id": "1_THo49Cn7Mr"
      },
      "source": [
        "Classes are a way by which, in object-oriented programming, we can create our own type of data and give them names.\n",
        "\n",
        "A class is like a mold for a type of data – where we can invent our own data type and give them a name."
      ]
    },
    {
      "cell_type": "code",
      "execution_count": null,
      "metadata": {
        "colab": {
          "base_uri": "https://localhost:8080/"
        },
        "id": "Ff3IloRVn9BD",
        "outputId": "3cd2a521-13fe-4e28-95c7-6bb506fd6df8"
      },
      "outputs": [
        {
          "name": "stdout",
          "output_type": "stream",
          "text": [
            "Name: Harry\n",
            "House: Gryffindor\n",
            "Harry from Gryffindor\n"
          ]
        }
      ],
      "source": [
        "class Student:\n",
        "    ...\n",
        "\n",
        "\n",
        "def main():\n",
        "    student = get_student()\n",
        "    print(f\"{student.name} from {student.house}\")\n",
        "\n",
        "\n",
        "def get_student():\n",
        "    student = Student()\n",
        "    student.name = input(\"Name: \")\n",
        "    student.house = input(\"House: \")\n",
        "    return student\n",
        "\n",
        "\n",
        "if __name__ == \"__main__\": # this allows you to import this file to other files without causing it's code to run unintended\n",
        "    main()"
      ]
    },
    {
      "cell_type": "markdown",
      "metadata": {
        "id": "UNpbWKbaoJSI"
      },
      "source": [
        "Notice by convention that Student is capitalized. Further, notice the ... simply means that we will later return to finish that portion of our code. Further, notice that in get_student, we can create a student of class Student using the syntax student = Student(). Further, notice that we utilize “dot notation” to access attributes of this variable student of class Student.\n",
        "\n",
        "Any time you create a class and you utilize that blueprint to create something, you create what is called an “object” or an “instance”. In the case of our code, student is an object."
      ]
    },
    {
      "cell_type": "code",
      "execution_count": null,
      "metadata": {
        "colab": {
          "base_uri": "https://localhost:8080/"
        },
        "id": "Bm4O0rQ5pBr9",
        "outputId": "46b4f86c-26a6-44e9-ba0e-ac0e534460a4"
      },
      "outputs": [
        {
          "name": "stdout",
          "output_type": "stream",
          "text": [
            "Name: Draco\n",
            "House: Slytherin\n",
            "Draco from Slytherin\n"
          ]
        }
      ],
      "source": [
        "class Student:\n",
        "    def __init__(self, name, house):\n",
        "        self.name = name\n",
        "        self.house = house\n",
        "\n",
        "\n",
        "def main():\n",
        "    student = get_student()\n",
        "    print(f\"{student.name} from {student.house}\")\n",
        "\n",
        "\n",
        "def get_student():\n",
        "    name = input(\"Name: \")\n",
        "    house = input(\"House: \")\n",
        "    return Student(name, house)\n",
        "\n",
        "\n",
        "if __name__ == \"__main__\":\n",
        "    main()"
      ]
    },
    {
      "cell_type": "markdown",
      "metadata": {
        "id": "xZ-srXKspQud"
      },
      "source": [
        "Notice that within Student, we standardize the attributes of this class. We can create a function within class Student, called a “method”, that determines the behavior of an object of class Student. Within this function, it takes the name and house passed to it and assigns these variables to this object. Further, notice how the constructor student = Student(name, house) calls this function within the Student class and creates a student. self refers to the current object that was just created.\n",
        "\n",
        "You can learn more in Python’s documentation of [classes](https://docs.python.org/3/tutorial/classes.html)."
      ]
    },
    {
      "cell_type": "markdown",
      "metadata": {
        "id": "22Son9xTplFZ"
      },
      "source": [
        "Object-oriented program encourages you to encapusulate all the functionality of a class within the class definition. What if something goes wrong? What if someone tries to type in something random? What if someone tries to create a student without a name?"
      ]
    },
    {
      "cell_type": "code",
      "execution_count": null,
      "metadata": {
        "colab": {
          "base_uri": "https://localhost:8080/"
        },
        "id": "j-UdbU9rpn-S",
        "outputId": "fbcb1c1c-8958-47ca-8b50-308475896b1f"
      },
      "outputs": [
        {
          "name": "stdout",
          "output_type": "stream",
          "text": [
            "Name: Hermione Granger\n",
            "House: Gryffindor\n",
            "Hermione Granger from Gryffindor\n"
          ]
        }
      ],
      "source": [
        "class Student:\n",
        "    def __init__(self, name, house):\n",
        "        if not name:\n",
        "            raise ValueError(\"Missing name\")\n",
        "        if house not in [\"Gryffindor\", \"Hufflepuff\", \"Ravenclaw\", \"Slytherin\"]:\n",
        "            raise ValueError(\"Invalid house\")\n",
        "        self.name = name\n",
        "        self.house = house\n",
        "\n",
        "\n",
        "def main():\n",
        "    student = get_student()\n",
        "    print(f\"{student.name} from {student.house}\")\n",
        "\n",
        "\n",
        "def get_student():\n",
        "    name = input(\"Name: \")\n",
        "    house = input(\"House: \")\n",
        "    return Student(name, house)\n",
        "\n",
        "\n",
        "if __name__ == \"__main__\":\n",
        "    main()"
      ]
    },
    {
      "cell_type": "markdown",
      "metadata": {
        "id": "UVS2gV_mpxcC"
      },
      "source": [
        "Notice how we check now that a name is provided and a proper house is designated. It turns out we can create our own exceptions that alerts the programmer to a potential error created by the user called raise. In the case above, we raise ValueError with a specific error message.\n",
        "\n",
        "It just so happens that Python allows you to create a specific function by which you can print the attributes of an object. Notice how def __str__(self) provides a means by which a student is returned when called. Therefore, you can now, as the programmer, print an object, its attributes, or almost anything you desire related to that object.\n",
        "\n",
        "\\__str__ is a built-in method that comes with Python classes. It just so happens that we can create our own methods for a class as well!"
      ]
    },
    {
      "cell_type": "code",
      "execution_count": null,
      "metadata": {
        "colab": {
          "base_uri": "https://localhost:8080/"
        },
        "id": "W9Rbq_VKp8Lc",
        "outputId": "c90f9c7c-2bfa-4169-e4a6-e22526c6d279"
      },
      "outputs": [
        {
          "name": "stdout",
          "output_type": "stream",
          "text": [
            "Name: Ron Weasley\n",
            "House: Gryffindor\n",
            "Patronus: \n",
            "Expecto Patronum!\n",
            "🪄\n"
          ]
        }
      ],
      "source": [
        "class Student:\n",
        "    def __init__(self, name, house, patronus):\n",
        "        if not name:\n",
        "            raise ValueError(\"Missing name\")\n",
        "        if house not in [\"Gryffindor\", \"Hufflepuff\", \"Ravenclaw\", \"Slytherin\"]:\n",
        "            raise ValueError(\"Invalid house\")\n",
        "        if patronus and patronus not in [\"Stag\", \"Otter\", \"Jack Russell terrier\"]:\n",
        "            raise ValueError(\"Invalid patronus\")\n",
        "        self.name = name\n",
        "        self.house = house\n",
        "        self.patronus = patronus\n",
        "\n",
        "    def __str__(self):\n",
        "        return f\"{self.name} from {self.house}\"\n",
        "\n",
        "    def charm(self):\n",
        "        match self.patronus:\n",
        "            case \"Stag\":\n",
        "                return \"🐴\"\n",
        "            case \"Otter\":\n",
        "                return \"🦦\"\n",
        "            case \"Jack Russell terrier\":\n",
        "                return \"🐶\"\n",
        "            case _:\n",
        "                return \"🪄\"\n",
        "\n",
        "\n",
        "def main():\n",
        "    student = get_student()\n",
        "    print(\"Expecto Patronum!\")\n",
        "    print(student.charm())\n",
        "\n",
        "\n",
        "def get_student():\n",
        "    name = input(\"Name: \")\n",
        "    house = input(\"House: \")\n",
        "    patronus = input(\"Patronus: \") or None\n",
        "    return Student(name, house, patronus)\n",
        "\n",
        "\n",
        "if __name__ == \"__main__\":\n",
        "    main()"
      ]
    },
    {
      "cell_type": "markdown",
      "metadata": {
        "id": "7-k9bnedqHGU"
      },
      "source": [
        "## Decorators and Class Methods"
      ]
    },
    {
      "cell_type": "markdown",
      "metadata": {
        "id": "vVKiITvIqPVa"
      },
      "source": [
        "Properties can be utilized to harden our code. In Python, we define properties using function “decorators”, which begin with @"
      ]
    },
    {
      "cell_type": "code",
      "execution_count": null,
      "metadata": {
        "colab": {
          "base_uri": "https://localhost:8080/"
        },
        "id": "BC6ZsSHxqJqf",
        "outputId": "4fb7df4f-0607-4572-81fb-69607d5d347d"
      },
      "outputs": [
        {
          "name": "stdout",
          "output_type": "stream",
          "text": [
            "Name: Cedric Diggory\n",
            "House: Hufflepuff\n",
            "Cedric Diggory from Hufflepuff\n"
          ]
        }
      ],
      "source": [
        "class Student:\n",
        "    def __init__(self, name, house):\n",
        "        self.name = name\n",
        "        self.house = house\n",
        "\n",
        "    def __str__(self):\n",
        "        return f\"{self.name} from {self.house}\"\n",
        "\n",
        "    # Getter for name\n",
        "    @property\n",
        "    def name(self):\n",
        "        return self._name\n",
        "\n",
        "    # Setter for name\n",
        "    @name.setter\n",
        "    def name(self, name):\n",
        "        if not name:\n",
        "            raise ValueError(\"Invalid name\")\n",
        "        self._name = name\n",
        "\n",
        "    @property\n",
        "    def house(self):\n",
        "        return self._house\n",
        "\n",
        "    @house.setter\n",
        "    def house(self, house):\n",
        "        if house not in [\"Gryffindor\", \"Hufflepuff\", \"Ravenclaw\", \"Slytherin\"]:\n",
        "            raise ValueError(\"Invalid house\")\n",
        "        self._house = house\n",
        "\n",
        "\n",
        "def main():\n",
        "    student = get_student()\n",
        "    print(student)\n",
        "\n",
        "\n",
        "def get_student():\n",
        "    name = input(\"Name: \")\n",
        "    house = input(\"House: \")\n",
        "    return Student(name, house)\n",
        "\n",
        "\n",
        "if __name__ == \"__main__\":\n",
        "    main()"
      ]
    },
    {
      "cell_type": "markdown",
      "metadata": {
        "id": "raNzzu4TqRiQ"
      },
      "source": [
        "Notice how we’ve written @property above a function called house. Doing so defines house as a property of our class. With house as a property, we gain the ability to define how some attribute of our class, _house, should be set and retrieved. Indeed, we can now define a function called a “setter”, via @house.setter, which will be called whenever the house property is set—for example, with student.house = \"Gryffindor\". Here, we’ve made our setter validate values of house for us. Notice how we raise a ValueError if the value of house is not any of the Harry Potter houses, otherwise, we’ll use house to update the value of _house. Why _house and not house? house is a property of our class, with functions via which a user attempts to set our class attribute. _house is that class attribute itself. The leading underscore, _, indicates to users they need not (and indeed, shouldn’t!) modify this value directly. _house should only be set through the house setter. Notice how the house property simply returns that value of _house, our class attribute that has presumably been validated using our house setter. When a user calls student.house, they’re getting the value of _house through our house “getter”."
      ]
    },
    {
      "cell_type": "markdown",
      "metadata": {
        "id": "HYcwFUMnqi-w"
      },
      "source": [
        "Sometimes, we want to add functionality to a class itself, not to instances of that class.\n",
        "@classmethod is a function that we can use to add functionality to a class as a whole.\n",
        "Here’s an example of _not_ using a class method."
      ]
    },
    {
      "cell_type": "code",
      "execution_count": null,
      "metadata": {
        "colab": {
          "base_uri": "https://localhost:8080/"
        },
        "id": "sUY5Gn-jqqdU",
        "outputId": "88e92d12-b893-4b0b-e11a-b574ce96272d"
      },
      "outputs": [
        {
          "name": "stdout",
          "output_type": "stream",
          "text": [
            "Harry is in Hufflepuff\n"
          ]
        }
      ],
      "source": [
        "import random\n",
        "\n",
        "\n",
        "class Hat:\n",
        "    def __init__(self):\n",
        "        self.houses = [\"Gryffindor\", \"Hufflepuff\", \"Ravenclaw\", \"Slytherin\"]\n",
        "\n",
        "    def sort(self, name):\n",
        "        print(name, \"is in\", random.choice(self.houses))\n",
        "\n",
        "\n",
        "hat = Hat()\n",
        "hat.sort(\"Harry\")"
      ]
    },
    {
      "cell_type": "markdown",
      "metadata": {
        "id": "z02F8u5fqyfs"
      },
      "source": [
        "Notice how when we pass the name of the student to the sorting hat, it will tell us what house is assigned to the student. Notice that hat = Hat() instantiates a hat. The sort functionality is always handled by the instance of the class Hat. By executing hat.sort(\"Harry\"), we pass the name of the student to the sort method of the particular instance of Hat, which we’ve called hat.\n",
        "\n",
        "We may want, though, to run the sort function without creating a particular instance of the sorting hat (there’s only one, after all!). We can modify our code as follows:"
      ]
    },
    {
      "cell_type": "code",
      "execution_count": null,
      "metadata": {
        "colab": {
          "base_uri": "https://localhost:8080/"
        },
        "id": "4bQbH1IDqzId",
        "outputId": "f5d95934-3ea3-4cbc-f7a3-d3f54e9377c5"
      },
      "outputs": [
        {
          "name": "stdout",
          "output_type": "stream",
          "text": [
            "Harry is in Slytherin\n"
          ]
        }
      ],
      "source": [
        "import random\n",
        "\n",
        "\n",
        "class Hat:\n",
        "\n",
        "    houses = [\"Gryffindor\", \"Hufflepuff\", \"Ravenclaw\", \"Slytherin\"]\n",
        "\n",
        "    @classmethod\n",
        "    def sort(cls, name):\n",
        "        print(name, \"is in\", random.choice(cls.houses))\n",
        "\n",
        "\n",
        "Hat.sort(\"Harry\")"
      ]
    },
    {
      "cell_type": "markdown",
      "metadata": {
        "id": "iWB9mSc4q1lk"
      },
      "source": [
        "Notice how the __init__ method is removed because we don’t need to instantiate a hat anywhere in our code. self, therefore, is no longer relevant and is removed. We specify this sort as a @classmethod, replacing self with cls. Finally, notice how Hat is capitalized by convention near the end of this code, because this is the name of our class."
      ]
    },
    {
      "cell_type": "markdown",
      "metadata": {
        "id": "vvoJNKAGq72q"
      },
      "source": [
        "Returning back to our previous code we can modify our code as follows, addressing some missed opportunities related to @classmethods"
      ]
    },
    {
      "cell_type": "code",
      "execution_count": null,
      "metadata": {
        "colab": {
          "base_uri": "https://localhost:8080/"
        },
        "id": "-v5eCpRaq-W1",
        "outputId": "a6530f83-4d98-4b31-b80a-3532c2e6d9cc"
      },
      "outputs": [
        {
          "name": "stdout",
          "output_type": "stream",
          "text": [
            "Name: Luna Lovegood\n",
            "House: Ravenclaw\n",
            "Luna Lovegood from Ravenclaw\n"
          ]
        }
      ],
      "source": [
        "class Student:\n",
        "    def __init__(self, name, house):\n",
        "        self.name = name\n",
        "        self.house = house\n",
        "\n",
        "    def __str__(self):\n",
        "        return f\"{self.name} from {self.house}\"\n",
        "\n",
        "    @classmethod\n",
        "    def get(cls):\n",
        "        name = input(\"Name: \")\n",
        "        house = input(\"House: \")\n",
        "        return cls(name, house)\n",
        "\n",
        "\n",
        "def main():\n",
        "    student = Student.get()\n",
        "    print(student)\n",
        "\n",
        "\n",
        "if __name__ == \"__main__\":\n",
        "    main()"
      ]
    },
    {
      "cell_type": "markdown",
      "metadata": {
        "id": "8x-2SzhkrCFL"
      },
      "source": [
        "## Inheritance"
      ]
    },
    {
      "cell_type": "markdown",
      "metadata": {
        "id": "ewHrxMOfrEgb"
      },
      "source": [
        "Inheritance is, perhaps, the most powerful feature of object-oriented programming.\n",
        "\n",
        "It just so happens that you can create a class that “inherits” methods, variables, and attributes from another class."
      ]
    },
    {
      "cell_type": "code",
      "execution_count": null,
      "metadata": {
        "colab": {
          "base_uri": "https://localhost:8080/"
        },
        "id": "ZjaLFOEGrDlK",
        "outputId": "0c37be0a-6b33-4f2d-e8a5-5d768106c802"
      },
      "outputs": [
        {
          "data": {
            "text/plain": [
              "Ellipsis"
            ]
          },
          "execution_count": 6,
          "metadata": {},
          "output_type": "execute_result"
        }
      ],
      "source": [
        "class Wizard:\n",
        "    def __init__(self, name):\n",
        "        if not name:\n",
        "            raise ValueError(\"Missing name\")\n",
        "        self.name = name\n",
        "\n",
        "    ...\n",
        "\n",
        "\n",
        "class Student(Wizard):\n",
        "    def __init__(self, name, house):\n",
        "        super().__init__(name)\n",
        "        self.house = house\n",
        "\n",
        "    ...\n",
        "\n",
        "\n",
        "class Professor(Wizard):\n",
        "    def __init__(self, name, subject):\n",
        "        super().__init__(name)\n",
        "        self.subject = subject\n",
        "\n",
        "    ...\n",
        "\n",
        "\n",
        "wizard = Wizard(\"Albus\")\n",
        "student = Student(\"Harry\", \"Gryffindor\")\n",
        "professor = Professor(\"Severus\", \"Defense Against the Dark Arts\")\n",
        "..."
      ]
    },
    {
      "cell_type": "markdown",
      "metadata": {
        "id": "_XJZ6WxsrLXw"
      },
      "source": [
        "Notice that there is a class above called Wizard and a class called Student. Further, notice that there is a class called Professor. Both students and professors have names. Also, both students and professors are wizards. Therefore, both Student and Professor inherit the characteristics of Wizard. Within the “child” class Student, Student can inherit from the “parent” or “super” class Wizard as the line super().__init__(name) runs the init method of Wizard. Finally, notice that the last lines of this code create a wizard called Albus, a student called Harry, and so on"
      ]
    },
    {
      "cell_type": "markdown",
      "metadata": {
        "id": "SK073-GHrQi-"
      },
      "source": [
        "While we have just introduced inheritance, we have been using this all along during our use of exceptions.\n",
        "It just so happens that exceptions come in a heirarchy, where there are children, parent, and grandparent classes. These are illustrated below:\n",
        "\n",
        "-- BaseException\n",
        "\n",
        "-- KeyboardInterrupt\n",
        "\n",
        "-- Exception\n",
        "\n",
        "-- ArithmeticError\n",
        "\n",
        "-- ZeroDivisionError\n",
        "\n",
        "-- AssertionError\n",
        "\n",
        "-- AttributeError\n",
        "\n",
        "-- EOFError\n",
        "\n",
        "-- ImportError\n",
        "\n",
        "-- ModuleNotFoundError\n",
        "\n",
        "-- LookupError\n",
        "\n",
        "-- KeyError\n",
        "\n",
        "-- NameError\n",
        "\n",
        "-- SyntaxError\n",
        "\n",
        "-- IndentationError\n",
        "\n",
        "-- ValueError\n",
        "\n",
        "You can learn more in Python’s documentation of [exceptions](https://docs.python.org/3/library/exceptions.html)."
      ]
    },
    {
      "cell_type": "markdown",
      "metadata": {
        "id": "EKuCsISAsHvZ"
      },
      "source": [
        "## Operator Overloading"
      ]
    },
    {
      "cell_type": "markdown",
      "metadata": {
        "id": "Aqb074RMseqH"
      },
      "source": [
        "Some operators such as + and - can be “overloaded” such that they can have more abilities beyond simple arithmetic."
      ]
    },
    {
      "cell_type": "code",
      "execution_count": null,
      "metadata": {
        "colab": {
          "base_uri": "https://localhost:8080/"
        },
        "id": "aMo7jm0dshPb",
        "outputId": "b621e297-846d-4903-df08-78ea32937f6a"
      },
      "outputs": [
        {
          "name": "stdout",
          "output_type": "stream",
          "text": [
            "100 Galleons, 50 Sickles, 25 Knuts\n",
            "25 Galleons, 50 Sickles, 100 Knuts\n",
            "125 Galleons, 100 Sickles, 125 Knuts\n"
          ]
        }
      ],
      "source": [
        "class Vault:\n",
        "    def __init__(self, galleons=0, sickles=0, knuts=0):\n",
        "        self.galleons = galleons\n",
        "        self.sickles = sickles\n",
        "        self.knuts = knuts\n",
        "\n",
        "    def __str__(self):\n",
        "        return f\"{self.galleons} Galleons, {self.sickles} Sickles, {self.knuts} Knuts\"\n",
        "\n",
        "    def __add__(self, other):\n",
        "        galleons = self.galleons + other.galleons\n",
        "        sickles = self.sickles + other.sickles\n",
        "        knuts = self.knuts + other.knuts\n",
        "        return Vault(galleons, sickles, knuts)\n",
        "\n",
        "\n",
        "potter = Vault(100, 50, 25)\n",
        "print(potter)\n",
        "\n",
        "weasley = Vault(25, 50, 100)\n",
        "print(weasley)\n",
        "\n",
        "total = potter + weasley\n",
        "print(total)"
      ]
    },
    {
      "cell_type": "markdown",
      "metadata": {
        "id": "0xApFHuqsk4O"
      },
      "source": [
        "Notice how the __str__ method returns a formatted string. Further, notice how the __add__ method allows for the addition of the values of two vaults. self is what is on the left of the + operand. other is what is right of the +.\n",
        "\n",
        "You can learn more in Python’s documentation of [operator overloading](https://docs.python.org/3/reference/datamodel.html#special-method-names)."
      ]
    },
    {
      "cell_type": "markdown",
      "metadata": {
        "id": "_53ei20_veSA"
      },
      "source": [
        "## NumPy"
      ]
    },
    {
      "cell_type": "markdown",
      "metadata": {
        "id": "tUlP1Kv3xyIe"
      },
      "source": [
        "### Introduction"
      ]
    },
    {
      "cell_type": "markdown",
      "metadata": {
        "id": "QegB5wZrwdNF"
      },
      "source": [
        "NumPy is a popular library for storing arrays of numbers and performing computations on them. Not only this enables to write often more succint code, this also makes the code faster, since most NumPy routines are implemented in C for speed.\n",
        "\n",
        "To use NumPy in your program, you need to import it as follows"
      ]
    },
    {
      "cell_type": "code",
      "execution_count": null,
      "metadata": {
        "id": "rTBQSBnIvjFx"
      },
      "outputs": [],
      "source": [
        "import numpy as np"
      ]
    },
    {
      "cell_type": "markdown",
      "metadata": {
        "id": "2iV7B3OvwfhW"
      },
      "source": [
        "NumPy arrays can be created from Python lists"
      ]
    },
    {
      "cell_type": "code",
      "execution_count": null,
      "metadata": {
        "colab": {
          "base_uri": "https://localhost:8080/"
        },
        "id": "2D7waRnkwh0e",
        "outputId": "584949ab-6ded-4165-b9e0-9587a34a6b92"
      },
      "outputs": [
        {
          "data": {
            "text/plain": [
              "array([1, 2, 3])"
            ]
          },
          "execution_count": 10,
          "metadata": {},
          "output_type": "execute_result"
        }
      ],
      "source": [
        "my_array = np.array([1, 2, 3])\n",
        "my_array"
      ]
    },
    {
      "cell_type": "markdown",
      "metadata": {
        "id": "Sy2EvrxFriAG"
      },
      "source": [
        "NumPy supports array of arbitrary dimension. For example, we can create two-dimensional arrays (e.g. to store a matrix) as follows"
      ]
    },
    {
      "cell_type": "code",
      "execution_count": null,
      "metadata": {
        "colab": {
          "base_uri": "https://localhost:8080/"
        },
        "id": "wM-GYVMsrzNs",
        "outputId": "f39d6457-c0a8-4a44-8d33-a97a7b668810"
      },
      "outputs": [
        {
          "data": {
            "text/plain": [
              "array([[1, 2, 3],\n",
              "       [4, 5, 6]])"
            ]
          },
          "execution_count": 11,
          "metadata": {},
          "output_type": "execute_result"
        }
      ],
      "source": [
        "my_2d_array = np.array([[1, 2, 3], [4, 5, 6]])\n",
        "my_2d_array"
      ]
    },
    {
      "cell_type": "markdown",
      "metadata": {
        "id": "-kZMzYsAsVAc"
      },
      "source": [
        "We can access individual elements of a 2d-array using two indices"
      ]
    },
    {
      "cell_type": "code",
      "execution_count": null,
      "metadata": {
        "colab": {
          "base_uri": "https://localhost:8080/"
        },
        "id": "4q8X86BbscPd",
        "outputId": "3a41ec91-be53-489e-9eeb-ff69466fe610"
      },
      "outputs": [
        {
          "data": {
            "text/plain": [
              "6"
            ]
          },
          "execution_count": 12,
          "metadata": {},
          "output_type": "execute_result"
        }
      ],
      "source": [
        "my_2d_array[1, 2]"
      ]
    },
    {
      "cell_type": "markdown",
      "metadata": {
        "id": "OfVIKyxkTh0p"
      },
      "source": [
        "We can also access rows"
      ]
    },
    {
      "cell_type": "code",
      "execution_count": null,
      "metadata": {
        "colab": {
          "base_uri": "https://localhost:8080/"
        },
        "id": "CrKnDAtyTlYe",
        "outputId": "2420a7fb-8cee-45cd-f339-8189acac21b9"
      },
      "outputs": [
        {
          "data": {
            "text/plain": [
              "array([4, 5, 6])"
            ]
          },
          "execution_count": 20,
          "metadata": {},
          "output_type": "execute_result"
        }
      ],
      "source": [
        "my_2d_array[1]"
      ]
    },
    {
      "cell_type": "markdown",
      "metadata": {
        "id": "hskLBCp9ToCG"
      },
      "source": [
        "and columns"
      ]
    },
    {
      "cell_type": "code",
      "execution_count": null,
      "metadata": {
        "colab": {
          "base_uri": "https://localhost:8080/"
        },
        "id": "MOOFsLHhTozX",
        "outputId": "7960f381-53dc-4b40-cc93-a2d4c23829fb"
      },
      "outputs": [
        {
          "data": {
            "text/plain": [
              "array([3, 6])"
            ]
          },
          "execution_count": 73,
          "metadata": {},
          "output_type": "execute_result"
        }
      ],
      "source": [
        "my_2d_array[:, 2]"
      ]
    },
    {
      "cell_type": "markdown",
      "metadata": {
        "id": "keWK_5PHr9Q2"
      },
      "source": [
        "Arrays have a `shape` attribute"
      ]
    },
    {
      "cell_type": "code",
      "execution_count": null,
      "metadata": {
        "colab": {
          "base_uri": "https://localhost:8080/"
        },
        "id": "5QIo7l1Yr8m7",
        "outputId": "8c5dab54-fd14-4e6d-8863-04323c0e5510"
      },
      "outputs": [
        {
          "name": "stdout",
          "output_type": "stream",
          "text": [
            "(3,)\n",
            "(2, 3)\n"
          ]
        }
      ],
      "source": [
        "print(my_array.shape)\n",
        "print(my_2d_array.shape)"
      ]
    },
    {
      "cell_type": "markdown",
      "metadata": {
        "id": "LmX0EDWVsoDY"
      },
      "source": [
        "Contrary to Python lists, NumPy arrays must have a type and all elements of the array must have the same type."
      ]
    },
    {
      "cell_type": "code",
      "execution_count": null,
      "metadata": {
        "colab": {
          "base_uri": "https://localhost:8080/"
        },
        "id": "FZjOowkls57o",
        "outputId": "8d1e6c88-bb8d-4d24-b40e-a4bd864f6ff1"
      },
      "outputs": [
        {
          "data": {
            "text/plain": [
              "dtype('float64')"
            ]
          },
          "execution_count": 24,
          "metadata": {},
          "output_type": "execute_result"
        }
      ],
      "source": [
        "my_array.dtype"
      ]
    },
    {
      "cell_type": "markdown",
      "metadata": {
        "id": "i5AvLdf7tGnZ"
      },
      "source": [
        "The main types are `int32` (32-bit integers), `int64` (64-bit integers), `float32` (32-bit real values) and `float64` (64-bit real values)."
      ]
    },
    {
      "cell_type": "markdown",
      "metadata": {
        "id": "w8ym2qZCt9Nm"
      },
      "source": [
        "The `dtype` can be specified when creating the array"
      ]
    },
    {
      "cell_type": "code",
      "execution_count": null,
      "metadata": {
        "colab": {
          "base_uri": "https://localhost:8080/"
        },
        "id": "gXpM_FqruCVv",
        "outputId": "f3023068-39dc-47a1-e1bf-4d30e1ad1e00"
      },
      "outputs": [
        {
          "data": {
            "text/plain": [
              "dtype('float64')"
            ]
          },
          "execution_count": 23,
          "metadata": {},
          "output_type": "execute_result"
        }
      ],
      "source": [
        "my_array = np.array([1, 2, 3], dtype=np.float64)\n",
        "my_array.dtype"
      ]
    },
    {
      "cell_type": "markdown",
      "metadata": {
        "id": "WueaRIONuTdS"
      },
      "source": [
        "We can create arrays of all zeros using"
      ]
    },
    {
      "cell_type": "code",
      "execution_count": null,
      "metadata": {
        "colab": {
          "base_uri": "https://localhost:8080/"
        },
        "id": "F2OIhmq1gNgV",
        "outputId": "f74cb686-c74d-4db7-ec0c-f502c637db86"
      },
      "outputs": [
        {
          "data": {
            "text/plain": [
              "array([[0., 0., 0.],\n",
              "       [0., 0., 0.]])"
            ]
          },
          "execution_count": 21,
          "metadata": {},
          "output_type": "execute_result"
        }
      ],
      "source": [
        "zero_array = np.zeros((2, 3))\n",
        "zero_array"
      ]
    },
    {
      "cell_type": "markdown",
      "metadata": {
        "id": "vn5go6qoudo4"
      },
      "source": [
        "and similarly for all ones using `ones` instead of `zeros`."
      ]
    },
    {
      "cell_type": "code",
      "execution_count": null,
      "metadata": {
        "colab": {
          "base_uri": "https://localhost:8080/"
        },
        "id": "dtkV2V-0gQO8",
        "outputId": "99484898-17a2-4d7a-9a03-9164e82cc5b6"
      },
      "outputs": [
        {
          "data": {
            "text/plain": [
              "array([[1., 1., 1.],\n",
              "       [1., 1., 1.]])"
            ]
          },
          "execution_count": 22,
          "metadata": {},
          "output_type": "execute_result"
        }
      ],
      "source": [
        "zero_array = np.ones((2, 3))\n",
        "zero_array"
      ]
    },
    {
      "cell_type": "markdown",
      "metadata": {
        "id": "1kCRlhLJuvZ6"
      },
      "source": [
        "We can create a range of values using"
      ]
    },
    {
      "cell_type": "code",
      "execution_count": null,
      "metadata": {
        "colab": {
          "base_uri": "https://localhost:8080/"
        },
        "id": "EcQXDeEmuxpO",
        "outputId": "20af138e-de76-4566-a117-42e05e9df8e6"
      },
      "outputs": [
        {
          "data": {
            "text/plain": [
              "array([0, 1, 2, 3, 4])"
            ]
          },
          "execution_count": 25,
          "metadata": {},
          "output_type": "execute_result"
        }
      ],
      "source": [
        "np.arange(5)"
      ]
    },
    {
      "cell_type": "markdown",
      "metadata": {
        "id": "ZvJECk6Iu3uF"
      },
      "source": [
        "or specifying the starting point"
      ]
    },
    {
      "cell_type": "code",
      "execution_count": null,
      "metadata": {
        "colab": {
          "base_uri": "https://localhost:8080/"
        },
        "id": "Pk3UzL3du_f8",
        "outputId": "21056ee9-00f3-4b3c-fc43-92e6609126f7"
      },
      "outputs": [
        {
          "data": {
            "text/plain": [
              "array([3, 4])"
            ]
          },
          "execution_count": 26,
          "metadata": {},
          "output_type": "execute_result"
        }
      ],
      "source": [
        "np.arange(3, 5)"
      ]
    },
    {
      "cell_type": "markdown",
      "metadata": {
        "id": "f1JtqFSivJKG"
      },
      "source": [
        "Another useful routine is `linspace` for creating linearly spaced values in an interval. For instance, to create 10 values in `[0, 1]`, we can use"
      ]
    },
    {
      "cell_type": "code",
      "execution_count": null,
      "metadata": {
        "colab": {
          "base_uri": "https://localhost:8080/"
        },
        "id": "udHHjGAHvOQM",
        "outputId": "de3bf7ef-902f-4622-acab-0a2a02749799"
      },
      "outputs": [
        {
          "data": {
            "text/plain": [
              "array([0.        , 0.11111111, 0.22222222, 0.33333333, 0.44444444,\n",
              "       0.55555556, 0.66666667, 0.77777778, 0.88888889, 1.        ])"
            ]
          },
          "execution_count": 27,
          "metadata": {},
          "output_type": "execute_result"
        }
      ],
      "source": [
        "np.linspace(0, 1, 10)"
      ]
    },
    {
      "cell_type": "markdown",
      "metadata": {
        "id": "WbcxAKobvgUT"
      },
      "source": [
        "Another important operation is `reshape`, for changing the shape of an array"
      ]
    },
    {
      "cell_type": "code",
      "execution_count": null,
      "metadata": {
        "colab": {
          "base_uri": "https://localhost:8080/"
        },
        "id": "4FPzTuDlvlLO",
        "outputId": "3710f56e-8316-4982-ccea-181a55d82790"
      },
      "outputs": [
        {
          "data": {
            "text/plain": [
              "array([[1, 2],\n",
              "       [3, 4],\n",
              "       [5, 6]])"
            ]
          },
          "execution_count": 30,
          "metadata": {},
          "output_type": "execute_result"
        }
      ],
      "source": [
        "my_array = np.array([1, 2, 3, 4, 5, 6])\n",
        "my_array.reshape(3, 2)"
      ]
    },
    {
      "cell_type": "markdown",
      "metadata": {
        "id": "f9B0iCBlmfeY"
      },
      "source": [
        "### Basic operations"
      ]
    },
    {
      "cell_type": "markdown",
      "metadata": {
        "id": "elQGgkqDxKLV"
      },
      "source": [
        "In NumPy, we express computations directly over arrays. This makes the code much more succint."
      ]
    },
    {
      "cell_type": "markdown",
      "metadata": {
        "id": "hkCU1T8ixghX"
      },
      "source": [
        "Arithmetic operations can be performed directly over arrays. For instance, assuming two arrays have a compatible shape, we can add them as follows"
      ]
    },
    {
      "cell_type": "code",
      "execution_count": null,
      "metadata": {
        "colab": {
          "base_uri": "https://localhost:8080/"
        },
        "id": "4AoiRq42x5mI",
        "outputId": "c7c4cb92-391a-419c-bd0f-c85dbfa9da08"
      },
      "outputs": [
        {
          "data": {
            "text/plain": [
              "array([5, 7, 9])"
            ]
          },
          "execution_count": 37,
          "metadata": {},
          "output_type": "execute_result"
        }
      ],
      "source": [
        "array_a = np.array([1, 2, 3])\n",
        "array_b = np.array([4, 5, 6])\n",
        "array_a + array_b"
      ]
    },
    {
      "cell_type": "markdown",
      "metadata": {
        "id": "SyPqME2EyD4x"
      },
      "source": [
        "Compare this with the equivalent computation using a for loop"
      ]
    },
    {
      "cell_type": "code",
      "execution_count": null,
      "metadata": {
        "colab": {
          "base_uri": "https://localhost:8080/"
        },
        "id": "HxRFA_U2yfI-",
        "outputId": "32f77123-4d28-4b29-a4d4-b2397a2f034e"
      },
      "outputs": [
        {
          "data": {
            "text/plain": [
              "array([5, 7, 9])"
            ]
          },
          "execution_count": 42,
          "metadata": {},
          "output_type": "execute_result"
        }
      ],
      "source": [
        "array_out = np.zeros_like(array_a)\n",
        "for i in range(len(array_a)):\n",
        "  array_out[i] = array_a[i] + array_b[i]\n",
        "array_out"
      ]
    },
    {
      "cell_type": "markdown",
      "metadata": {
        "id": "i2a-apX-zlPN"
      },
      "source": [
        "Not only this code is more verbose, it will also run much more slowly."
      ]
    },
    {
      "cell_type": "markdown",
      "metadata": {
        "id": "Qdn8MwpR0wX_"
      },
      "source": [
        "In NumPy, functions that operates on arrays in an element-wise fashion are called [universal functions](https://numpy.org/doc/stable/reference/ufuncs.html). For instance, this is the case of `np.sin`"
      ]
    },
    {
      "cell_type": "code",
      "execution_count": null,
      "metadata": {
        "colab": {
          "base_uri": "https://localhost:8080/"
        },
        "id": "JoanjiMu1BH5",
        "outputId": "920734e7-ae6c-4e4c-e41b-d6e84c7f4a9d"
      },
      "outputs": [
        {
          "data": {
            "text/plain": [
              "array([0.84147098, 0.90929743, 0.14112001])"
            ]
          },
          "execution_count": 84,
          "metadata": {},
          "output_type": "execute_result"
        }
      ],
      "source": [
        "np.sin(array_a)"
      ]
    },
    {
      "cell_type": "markdown",
      "metadata": {
        "id": "jHljrPXg5h8W"
      },
      "source": [
        "Vector inner product can be performed using `np.dot`"
      ]
    },
    {
      "cell_type": "code",
      "execution_count": null,
      "metadata": {
        "colab": {
          "base_uri": "https://localhost:8080/"
        },
        "id": "TphR8oIx5ob9",
        "outputId": "71b5da44-8c0a-45d0-f3f6-bb026049440b"
      },
      "outputs": [
        {
          "data": {
            "text/plain": [
              "32"
            ]
          },
          "execution_count": 44,
          "metadata": {},
          "output_type": "execute_result"
        }
      ],
      "source": [
        "np.dot(array_a, array_b)"
      ]
    },
    {
      "cell_type": "markdown",
      "metadata": {
        "id": "lHInOiSW50OR"
      },
      "source": [
        "When the two arguments to `np.dot` are both 2d arrays, `np.dot` becomes matrix multiplication"
      ]
    },
    {
      "cell_type": "code",
      "execution_count": null,
      "metadata": {
        "colab": {
          "base_uri": "https://localhost:8080/"
        },
        "id": "QRbpbhPP6Up0",
        "outputId": "fe7ad3e1-27e1-4624-da7f-814dd3343627"
      },
      "outputs": [
        {
          "name": "stdout",
          "output_type": "stream",
          "text": [
            "[[0.65601274 0.72237636 0.93258074]\n",
            " [0.27035937 0.55016762 0.8494608 ]\n",
            " [0.54401518 0.40605441 0.99511734]\n",
            " [0.68610191 0.01020414 0.86771927]\n",
            " [0.37152179 0.90472261 0.52949963]]\n",
            "[[ 0.98370967 -0.50332094 -1.1867403  -0.73916631]\n",
            " [-0.37987745  0.81820447  0.19405924  0.07779717]\n",
            " [-0.51215536 -1.60912611 -1.71970458  1.11254966]]\n"
          ]
        },
        {
          "data": {
            "text/plain": [
              "array([[-0.10671463, -1.2397734 , -2.24209633,  0.6088387 ],\n",
              "       [-0.37809705, -1.05281747, -1.67490288,  0.78802827],\n",
              "       [-0.1287526 , -1.54284799, -2.27811399,  0.73658965],\n",
              "       [ 0.22664168, -1.73325011, -2.30446538,  0.45903121],\n",
              "       [-0.24940022, -0.29877829, -1.17591304,  0.38486311]])"
            ]
          },
          "execution_count": 49,
          "metadata": {},
          "output_type": "execute_result"
        }
      ],
      "source": [
        "array_A = np.random.rand(5, 3)\n",
        "array_B = np.random.randn(3, 4)\n",
        "print(array_A)\n",
        "print(array_B)\n",
        "np.dot(array_A, array_B)"
      ]
    },
    {
      "cell_type": "markdown",
      "metadata": {
        "id": "odVawD9m6gwv"
      },
      "source": [
        "Matrix transpose can be done using `.transpose()` or `.T` for short"
      ]
    },
    {
      "cell_type": "code",
      "execution_count": null,
      "metadata": {
        "colab": {
          "base_uri": "https://localhost:8080/"
        },
        "id": "gvPe_JAO6mvF",
        "outputId": "e9abf46b-7287-4af2-d067-513e035c6eb4"
      },
      "outputs": [
        {
          "data": {
            "text/plain": [
              "array([[0.65601274, 0.27035937, 0.54401518, 0.68610191, 0.37152179],\n",
              "       [0.72237636, 0.55016762, 0.40605441, 0.01020414, 0.90472261],\n",
              "       [0.93258074, 0.8494608 , 0.99511734, 0.86771927, 0.52949963]])"
            ]
          },
          "execution_count": 50,
          "metadata": {},
          "output_type": "execute_result"
        }
      ],
      "source": [
        "array_A.T"
      ]
    },
    {
      "cell_type": "markdown",
      "metadata": {
        "id": "JlWt3oFnE_E-"
      },
      "source": [
        "### Slicing and masking"
      ]
    },
    {
      "cell_type": "markdown",
      "metadata": {
        "id": "e4aKKe7bFA65"
      },
      "source": [
        "Like Python lists, NumPy arrays support slicing"
      ]
    },
    {
      "cell_type": "code",
      "execution_count": null,
      "metadata": {
        "colab": {
          "base_uri": "https://localhost:8080/"
        },
        "id": "0kPhv2xcF1TP",
        "outputId": "7f21297b-d387-41f6-db78-cc432d284f6c"
      },
      "outputs": [
        {
          "data": {
            "text/plain": [
              "array([5, 6, 7, 8, 9])"
            ]
          },
          "execution_count": 88,
          "metadata": {},
          "output_type": "execute_result"
        }
      ],
      "source": [
        "np.arange(10)[5:]"
      ]
    },
    {
      "cell_type": "markdown",
      "metadata": {
        "id": "ITu2Wy4-GB2G"
      },
      "source": [
        "We can also select only certain elements from the array"
      ]
    },
    {
      "cell_type": "code",
      "execution_count": null,
      "metadata": {
        "colab": {
          "base_uri": "https://localhost:8080/"
        },
        "id": "8tlZzTB6GEyw",
        "outputId": "93cd82ce-ff13-4497-9800-0f8e092414f1"
      },
      "outputs": [
        {
          "data": {
            "text/plain": [
              "array([5, 6, 7, 8, 9])"
            ]
          },
          "execution_count": 32,
          "metadata": {},
          "output_type": "execute_result"
        }
      ],
      "source": [
        "x = np.arange(10)\n",
        "mask = x >= 5\n",
        "x[mask]"
      ]
    },
    {
      "cell_type": "markdown",
      "metadata": {
        "id": "NlGForCimjBL"
      },
      "source": [
        "### Exercises"
      ]
    },
    {
      "cell_type": "markdown",
      "metadata": {
        "id": "Ur1UlSFPTu6O"
      },
      "source": [
        "**Exercise 1.** Create a 3d array of shape (2, 2, 2), containing 8 values. Access individual elements and slices."
      ]
    },
    {
      "cell_type": "code",
      "execution_count": null,
      "metadata": {
        "colab": {
          "base_uri": "https://localhost:8080/"
        },
        "id": "v1ed4-vLUWXQ",
        "outputId": "4ce3c61c-a52a-458b-f5b1-bb428893da12"
      },
      "outputs": [
        {
          "data": {
            "text/plain": [
              "array([1, 3])"
            ]
          },
          "execution_count": 45,
          "metadata": {},
          "output_type": "execute_result"
        }
      ],
      "source": [
        "array_c = np.array([[1, 2], [3, 4], [5, 6]])\n",
        "array_c[0][1]\n",
        "array_c[:2,0]"
      ]
    },
    {
      "cell_type": "markdown",
      "metadata": {
        "id": "s_ksfCDJzyxI"
      },
      "source": [
        "**Exercise 2.** Rewrite the [relu function](https://www.geeksforgeeks.org/activation-functions/) using [np.maximum](https://numpy.org/doc/stable/reference/generated/numpy.maximum.html). Check that it works on both a single value and on an array of values."
      ]
    },
    {
      "cell_type": "code",
      "execution_count": null,
      "metadata": {
        "colab": {
          "base_uri": "https://localhost:8080/"
        },
        "id": "QtSTxH5Dz6f8",
        "outputId": "e34ab1da-de49-40d4-829e-f6c73460b9e1"
      },
      "outputs": [
        {
          "data": {
            "text/plain": [
              "array([1. , 0. , 2.5])"
            ]
          },
          "execution_count": 51,
          "metadata": {},
          "output_type": "execute_result"
        }
      ],
      "source": [
        "def relu_numpy(x):\n",
        "  return np.maximum(0,x) #compares two arrays and returns a new array where each element is the maximum of the two in corresponding indexes\n",
        "\n",
        "relu_numpy(np.array([1, -3, 2.5]))"
      ]
    },
    {
      "cell_type": "markdown",
      "metadata": {
        "id": "yd1ZoByo436x"
      },
      "source": [
        "**Exercise 3.** Compute the mean value of the features in the [iris dataset](https://scikit-learn.org/stable/modules/generated/sklearn.datasets.load_iris.html). Hint: use the `axis` argument on [np.mean](https://numpy.org/doc/stable/reference/generated/numpy.mean.html)."
      ]
    },
    {
      "cell_type": "code",
      "execution_count": null,
      "metadata": {
        "colab": {
          "base_uri": "https://localhost:8080/"
        },
        "id": "fYFVobkP5JK6",
        "outputId": "28827218-f74c-4df1-98e1-8ff935a4b1d5"
      },
      "outputs": [
        {
          "data": {
            "text/plain": [
              "array([5.84333333, 3.05733333, 3.758     , 1.19933333])"
            ]
          },
          "execution_count": 61,
          "metadata": {},
          "output_type": "execute_result"
        }
      ],
      "source": [
        "from sklearn.datasets import load_iris\n",
        "X, y = load_iris(return_X_y=True)\n",
        "np.mean(X, axis = 0)\n",
        "\n",
        "# Result should be an array of size 4."
      ]
    },
    {
      "cell_type": "markdown",
      "metadata": {
        "id": "4NUIwy9Fy520"
      },
      "source": [
        "## Matplotlib"
      ]
    },
    {
      "cell_type": "markdown",
      "metadata": {
        "id": "NnXeNKd-y9QJ"
      },
      "source": [
        "Matplotlib is a plotting library for Python.\n",
        "\n",
        "We start with a rudimentary plotting example."
      ]
    },
    {
      "cell_type": "code",
      "execution_count": null,
      "metadata": {
        "colab": {
          "base_uri": "https://localhost:8080/",
          "height": 472
        },
        "id": "KydnXLCYy_J4",
        "outputId": "020b92b5-845a-4853-cc93-247910abcd8e"
      },
      "outputs": [
        {
          "data": {
            "image/png": "[encoded data removed]",
            "text/plain": [
              "<Figure size 640x480 with 1 Axes>"
            ]
          },
          "metadata": {},
          "output_type": "display_data"
        }
      ],
      "source": [
        "from matplotlib import pyplot as plt\n",
        "\n",
        "x_values = np.linspace(-3, 3, 100)\n",
        "\n",
        "plt.figure()\n",
        "plt.plot(x_values, np.sin(x_values), label=\"Sinusoid\")\n",
        "plt.xlabel(\"x\")\n",
        "plt.ylabel(\"sin(x)\")\n",
        "plt.title(\"Matplotlib example\")\n",
        "plt.legend(loc=\"upper left\")\n",
        "plt.show()"
      ]
    },
    {
      "cell_type": "markdown",
      "metadata": {
        "id": "rX5qjodQzEwt"
      },
      "source": [
        "We continue with a rudimentary scatter plot example. This example displays samples from the iris dataset using the first two features. Colors indicate class membership (there are 3 classes)."
      ]
    },
    {
      "cell_type": "code",
      "execution_count": null,
      "metadata": {
        "colab": {
          "base_uri": "https://localhost:8080/",
          "height": 433
        },
        "id": "1__969gozGYU",
        "outputId": "40925146-f5d8-419b-e5ca-1f047e51ad5f"
      },
      "outputs": [
        {
          "data": {
            "image/png": "[encoded data removed]",
            "text/plain": [
              "<Figure size 640x480 with 1 Axes>"
            ]
          },
          "metadata": {},
          "output_type": "display_data"
        }
      ],
      "source": [
        "from sklearn.datasets import load_iris\n",
        "X, y = load_iris(return_X_y=True)\n",
        "\n",
        "X_class0 = X[y == 0]\n",
        "X_class1 = X[y == 1]\n",
        "X_class2 = X[y == 2]\n",
        "\n",
        "plt.figure()\n",
        "plt.scatter(X_class0[:, 0], X_class0[:, 1], label=\"Class 0\", color=\"C0\")\n",
        "plt.scatter(X_class1[:, 0], X_class1[:, 1], label=\"Class 1\", color=\"C1\")\n",
        "plt.scatter(X_class2[:, 0], X_class2[:, 1], label=\"Class 2\", color=\"C2\")\n",
        "plt.legend()\n",
        "plt.show()"
      ]
    },
    {
      "cell_type": "markdown",
      "metadata": {
        "id": "zK5Qj5XqzKM7"
      },
      "source": [
        "We see that samples belonging to class 0 can be linearly separated from the rest using only the first two features."
      ]
    },
    {
      "cell_type": "markdown",
      "metadata": {
        "id": "1X6-g6zgCwJd"
      },
      "source": [
        "**Exercise 1.** Plot the relu and the [softplus](https://en.wikipedia.org/wiki/Rectifier_(neural_networks)#Softplus) functions on the same graph."
      ]
    },
    {
      "cell_type": "code",
      "execution_count": null,
      "metadata": {
        "colab": {
          "base_uri": "https://localhost:8080/",
          "height": 472
        },
        "id": "Ob6HZUX0DJ8y",
        "outputId": "66bd8356-7e37-4abf-fd35-9d07a236f2e3"
      },
      "outputs": [
        {
          "data": {
            "image/png": "[encoded data removed]",
            "text/plain": [
              "<Figure size 640x480 with 1 Axes>"
            ]
          },
          "metadata": {},
          "output_type": "display_data"
        }
      ],
      "source": [
        "from matplotlib import pyplot as plt\n",
        "\n",
        "x_values = np.linspace(-10, 10, 300)\n",
        "relu_values = np.maximum(0, x_values)\n",
        "softplus_values = np.log(1+np.exp(x_values))\n",
        "\n",
        "plt.figure()\n",
        "plt.plot(x_values, relu_values, label=\"ReLU\", color=\"red\")\n",
        "plt.plot(x_values, softplus_values, label=\"Softplus\", color=\"blue\")\n",
        "plt.xlabel(\"x\")\n",
        "plt.ylabel(\"f(x)\")\n",
        "plt.title(\"Relu and Softplus\")\n",
        "plt.legend(loc=\"upper left\")\n",
        "plt.show()\n",
        "\n",
        "# Softplus increases slowly asymptotically aproaching 0 at large negative values,\n",
        "# and x at large positive values while ReLU is 0 for all negative values and x for all positive values.\n",
        "# Softplus is a smoother version of ReLU."
      ]
    },
    {
      "cell_type": "markdown",
      "metadata": {
        "id": "vpRGfz0aDW3l"
      },
      "source": [
        "What is the main difference between the two functions?"
      ]
    },
    {
      "cell_type": "markdown",
      "metadata": {
        "id": "jQpdbILgGePy"
      },
      "source": [
        "Softplus increases slowly asymptotically aproaching 0 at large negative values and x at large positive values while ReLU is 0 for all negative values and x for all positive values. Softplus is a smoother version of ReLU."
      ]
    },
    {
      "cell_type": "markdown",
      "metadata": {
        "id": "JjDeIufRAYVL"
      },
      "source": [
        "**Exercise 2.** Repeat the same scatter plot but using the [digits dataset](https://scikit-learn.org/stable/modules/generated/sklearn.datasets.load_digits.html) instead."
      ]
    },
    {
      "cell_type": "code",
      "execution_count": null,
      "metadata": {
        "colab": {
          "base_uri": "https://localhost:8080/",
          "height": 430
        },
        "id": "-JU3TXCBBB0c",
        "outputId": "33c4a12e-d98e-4bc8-96af-18b796654a40"
      },
      "outputs": [
        {
          "data": {
            "image/png": "[encoded data removed]",
            "text/plain": [
              "<Figure size 640x480 with 1 Axes>"
            ]
          },
          "metadata": {},
          "output_type": "display_data"
        }
      ],
      "source": [
        "from sklearn.datasets import load_digits\n",
        "X, y = load_digits(return_X_y=True)\n",
        "\n",
        "X_class0 = X[y == 0]\n",
        "X_class1 = X[y == 1]\n",
        "X_class2 = X[y == 2]\n",
        "\n",
        "plt.figure()\n",
        "plt.scatter(X_class0[:, 2], X_class0[:, 4], label=\"Class 0\", color=\"C0\")\n",
        "plt.scatter(X_class1[:, 2], X_class1[:, 4], label=\"Class 1\", color=\"C1\")\n",
        "plt.scatter(X_class2[:, 2], X_class2[:, 4], label=\"Class 2\", color=\"C2\")\n",
        "plt.legend()\n",
        "plt.show()\n",
        "\n",
        "#Scatter plot is ineffective due to high dimensionality of data (8x8)"
      ]
    },
    {
      "cell_type": "markdown",
      "metadata": {
        "id": "w7wPWdmXBQA2"
      },
      "source": [
        "Are pixel values good features for classifying samples?"
      ]
    },
    {
      "cell_type": "markdown",
      "metadata": {
        "id": "TjvGAAvjXoP0"
      },
      "source": [
        "Pixel values are good features for classifying samples in the digits dataset since each datapoint is an 8x8 image of a handwritten digit. Thus the computer can be taught to recognize the patterns of pixels in the dataset to identify the digits."
      ]
    },
    {
      "cell_type": "markdown",
      "metadata": {
        "id": "bJOKEBDJ0hb-"
      },
      "source": [
        "## Pandas"
      ]
    },
    {
      "cell_type": "markdown",
      "metadata": {
        "id": "svylv_MY0kY9"
      },
      "source": [
        "Pandas is a powerful Python library used for data manipulation and analysis. It provides data structures like Series and DataFrame, which are essential for handling and analyzing structured data. Pandas makes data analysis tasks like cleaning, transforming, and aggregating data easier and more efficient.\n"
      ]
    },
    {
      "cell_type": "code",
      "execution_count": null,
      "metadata": {
        "colab": {
          "base_uri": "https://localhost:8080/"
        },
        "id": "C_D9M6qp0oTn",
        "outputId": "80b9a1bb-a48e-44f6-e212-df8f637bcb76"
      },
      "outputs": [
        {
          "name": "stdout",
          "output_type": "stream",
          "text": [
            "Pandas Version: 2.1.4\n"
          ]
        }
      ],
      "source": [
        "import pandas as pd\n",
        "\n",
        "print(f\"Pandas Version: {pd.__version__}\") # checking the version of Pandas we are using"
      ]
    },
    {
      "cell_type": "markdown",
      "metadata": {
        "id": "_gZS8GA50zpx"
      },
      "source": [
        "A Series is a one-dimensional labeled array capable of holding any data type. In this example, we create a simple Series from a list of integers. The Series has both a data column and an index column."
      ]
    },
    {
      "cell_type": "code",
      "execution_count": null,
      "metadata": {
        "colab": {
          "base_uri": "https://localhost:8080/",
          "height": 241
        },
        "id": "mEKBBAT-03HW",
        "outputId": "57b00a7c-6c98-4567-bd50-9c027332f4c3"
      },
      "outputs": [
        {
          "data": {
            "text/html": [
              "<div>\n",
              "<style scoped>\n",
              "    .dataframe tbody tr th:only-of-type {\n",
              "        vertical-align: middle;\n",
              "    }\n",
              "\n",
              "    .dataframe tbody tr th {\n",
              "        vertical-align: top;\n",
              "    }\n",
              "\n",
              "    .dataframe thead th {\n",
              "        text-align: right;\n",
              "    }\n",
              "</style>\n",
              "<table border=\"1\" class=\"dataframe\">\n",
              "  <thead>\n",
              "    <tr style=\"text-align: right;\">\n",
              "      <th></th>\n",
              "      <th>0</th>\n",
              "    </tr>\n",
              "  </thead>\n",
              "  <tbody>\n",
              "    <tr>\n",
              "      <th>0</th>\n",
              "      <td>10</td>\n",
              "    </tr>\n",
              "    <tr>\n",
              "      <th>1</th>\n",
              "      <td>20</td>\n",
              "    </tr>\n",
              "    <tr>\n",
              "      <th>2</th>\n",
              "      <td>30</td>\n",
              "    </tr>\n",
              "    <tr>\n",
              "      <th>3</th>\n",
              "      <td>40</td>\n",
              "    </tr>\n",
              "    <tr>\n",
              "      <th>4</th>\n",
              "      <td>50</td>\n",
              "    </tr>\n",
              "  </tbody>\n",
              "</table>\n",
              "</div><br><label><b>dtype:</b> int64</label>"
            ],
            "text/plain": [
              "0    10\n",
              "1    20\n",
              "2    30\n",
              "3    40\n",
              "4    50\n",
              "dtype: int64"
            ]
          },
          "execution_count": 97,
          "metadata": {},
          "output_type": "execute_result"
        }
      ],
      "source": [
        "data = [10, 20, 30, 40, 50]\n",
        "series = pd.Series(data)\n",
        "series"
      ]
    },
    {
      "cell_type": "markdown",
      "metadata": {
        "id": "2wEMr4ZI09Rh"
      },
      "source": [
        "A DataFrame is a two-dimensional, size-mutable, and potentially heterogeneous tabular data structure with labeled axes (rows and columns). Here, we create a DataFrame from a dictionary where keys are column names, and values are lists of data."
      ]
    },
    {
      "cell_type": "code",
      "execution_count": null,
      "metadata": {
        "colab": {
          "base_uri": "https://localhost:8080/",
          "height": 175
        },
        "id": "z4TVokpX0-fP",
        "outputId": "ad8223f8-9eed-46b3-ac40-ebecb5d8eaf6"
      },
      "outputs": [
        {
          "data": {
            "application/vnd.google.colaboratory.intrinsic+json": {
              "summary": "{\n  \"name\": \"df\",\n  \"rows\": 4,\n  \"fields\": [\n    {\n      \"column\": \"Name\",\n      \"properties\": {\n        \"dtype\": \"string\",\n        \"num_unique_values\": 4,\n        \"samples\": [\n          \"Bob\",\n          \"David\",\n          \"Alice\"\n        ],\n        \"semantic_type\": \"\",\n        \"description\": \"\"\n      }\n    },\n    {\n      \"column\": \"Age\",\n      \"properties\": {\n        \"dtype\": \"number\",\n        \"std\": 4,\n        \"min\": 22,\n        \"max\": 32,\n        \"num_unique_values\": 4,\n        \"samples\": [\n          27,\n          32,\n          24\n        ],\n        \"semantic_type\": \"\",\n        \"description\": \"\"\n      }\n    },\n    {\n      \"column\": \"City\",\n      \"properties\": {\n        \"dtype\": \"string\",\n        \"num_unique_values\": 4,\n        \"samples\": [\n          \"Los Angeles\",\n          \"Houston\",\n          \"New York\"\n        ],\n        \"semantic_type\": \"\",\n        \"description\": \"\"\n      }\n    }\n  ]\n}",
              "type": "dataframe",
              "variable_name": "df"
            },
            "text/html": [
              "\n",
              "  <div id=\"df-fb188530-bea2-478a-a393-61f6c3dac256\" class=\"colab-df-container\">\n",
              "    <div>\n",
              "<style scoped>\n",
              "    .dataframe tbody tr th:only-of-type {\n",
              "        vertical-align: middle;\n",
              "    }\n",
              "\n",
              "    .dataframe tbody tr th {\n",
              "        vertical-align: top;\n",
              "    }\n",
              "\n",
              "    .dataframe thead th {\n",
              "        text-align: right;\n",
              "    }\n",
              "</style>\n",
              "<table border=\"1\" class=\"dataframe\">\n",
              "  <thead>\n",
              "    <tr style=\"text-align: right;\">\n",
              "      <th></th>\n",
              "      <th>Name</th>\n",
              "      <th>Age</th>\n",
              "      <th>City</th>\n",
              "    </tr>\n",
              "  </thead>\n",
              "  <tbody>\n",
              "    <tr>\n",
              "      <th>0</th>\n",
              "      <td>Alice</td>\n",
              "      <td>24</td>\n",
              "      <td>New York</td>\n",
              "    </tr>\n",
              "    <tr>\n",
              "      <th>1</th>\n",
              "      <td>Bob</td>\n",
              "      <td>27</td>\n",
              "      <td>Los Angeles</td>\n",
              "    </tr>\n",
              "    <tr>\n",
              "      <th>2</th>\n",
              "      <td>Charlie</td>\n",
              "      <td>22</td>\n",
              "      <td>Chicago</td>\n",
              "    </tr>\n",
              "    <tr>\n",
              "      <th>3</th>\n",
              "      <td>David</td>\n",
              "      <td>32</td>\n",
              "      <td>Houston</td>\n",
              "    </tr>\n",
              "  </tbody>\n",
              "</table>\n",
              "</div>\n",
              "    <div class=\"colab-df-buttons\">\n",
              "\n",
              "  <div class=\"colab-df-container\">\n",
              "    <button class=\"colab-df-convert\" onclick=\"convertToInteractive('df-fb188530-bea2-478a-a393-61f6c3dac256')\"\n",
              "            title=\"Convert this dataframe to an interactive table.\"\n",
              "            style=\"display:none;\">\n",
              "\n",
              "  <svg xmlns=\"http://www.w3.org/2000/svg\" height=\"24px\" viewBox=\"0 -960 960 960\">\n",
              "    <path d=\"M120-120v-720h720v720H120Zm60-500h600v-160H180v160Zm220 220h160v-160H400v160Zm0 220h160v-160H400v160ZM180-400h160v-160H180v160Zm440 0h160v-160H620v160ZM180-180h160v-160H180v160Zm440 0h160v-160H620v160Z\"/>\n",
              "  </svg>\n",
              "    </button>\n",
              "\n",
              "  <style>\n",
              "    .colab-df-container {\n",
              "      display:flex;\n",
              "      gap: 12px;\n",
              "    }\n",
              "\n",
              "    .colab-df-convert {\n",
              "      background-color: #E8F0FE;\n",
              "      border: none;\n",
              "      border-radius: 50%;\n",
              "      cursor: pointer;\n",
              "      display: none;\n",
              "      fill: #1967D2;\n",
              "      height: 32px;\n",
              "      padding: 0 0 0 0;\n",
              "      width: 32px;\n",
              "    }\n",
              "\n",
              "    .colab-df-convert:hover {\n",
              "      background-color: #E2EBFA;\n",
              "      box-shadow: 0px 1px 2px rgba(60, 64, 67, 0.3), 0px 1px 3px 1px rgba(60, 64, 67, 0.15);\n",
              "      fill: #174EA6;\n",
              "    }\n",
              "\n",
              "    .colab-df-buttons div {\n",
              "      margin-bottom: 4px;\n",
              "    }\n",
              "\n",
              "    [theme=dark] .colab-df-convert {\n",
              "      background-color: #3B4455;\n",
              "      fill: #D2E3FC;\n",
              "    }\n",
              "\n",
              "    [theme=dark] .colab-df-convert:hover {\n",
              "      background-color: #434B5C;\n",
              "      box-shadow: 0px 1px 3px 1px rgba(0, 0, 0, 0.15);\n",
              "      filter: drop-shadow(0px 1px 2px rgba(0, 0, 0, 0.3));\n",
              "      fill: #FFFFFF;\n",
              "    }\n",
              "  </style>\n",
              "\n",
              "    <script>\n",
              "      const buttonEl =\n",
              "        document.querySelector('#df-fb188530-bea2-478a-a393-61f6c3dac256 button.colab-df-convert');\n",
              "      buttonEl.style.display =\n",
              "        google.colab.kernel.accessAllowed ? 'block' : 'none';\n",
              "\n",
              "      async function convertToInteractive(key) {\n",
              "        const element = document.querySelector('#df-fb188530-bea2-478a-a393-61f6c3dac256');\n",
              "        const dataTable =\n",
              "          await google.colab.kernel.invokeFunction('convertToInteractive',\n",
              "                                                    [key], {});\n",
              "        if (!dataTable) return;\n",
              "\n",
              "        const docLinkHtml = 'Like what you see? Visit the ' +\n",
              "          '<a target=\"_blank\" href=https://colab.research.google.com/notebooks/data_table.ipynb>data table notebook</a>'\n",
              "          + ' to learn more about interactive tables.';\n",
              "        element.innerHTML = '';\n",
              "        dataTable['output_type'] = 'display_data';\n",
              "        await google.colab.output.renderOutput(dataTable, element);\n",
              "        const docLink = document.createElement('div');\n",
              "        docLink.innerHTML = docLinkHtml;\n",
              "        element.appendChild(docLink);\n",
              "      }\n",
              "    </script>\n",
              "  </div>\n",
              "\n",
              "\n",
              "<div id=\"df-ba7d9ca4-0f2c-46fd-b272-f52aae3f873b\">\n",
              "  <button class=\"colab-df-quickchart\" onclick=\"quickchart('df-ba7d9ca4-0f2c-46fd-b272-f52aae3f873b')\"\n",
              "            title=\"Suggest charts\"\n",
              "            style=\"display:none;\">\n",
              "\n",
              "<svg xmlns=\"http://www.w3.org/2000/svg\" height=\"24px\"viewBox=\"0 0 24 24\"\n",
              "     width=\"24px\">\n",
              "    <g>\n",
              "        <path d=\"M19 3H5c-1.1 0-2 .9-2 2v14c0 1.1.9 2 2 2h14c1.1 0 2-.9 2-2V5c0-1.1-.9-2-2-2zM9 17H7v-7h2v7zm4 0h-2V7h2v10zm4 0h-2v-4h2v4z\"/>\n",
              "    </g>\n",
              "</svg>\n",
              "  </button>\n",
              "\n",
              "<style>\n",
              "  .colab-df-quickchart {\n",
              "      --bg-color: #E8F0FE;\n",
              "      --fill-color: #1967D2;\n",
              "      --hover-bg-color: #E2EBFA;\n",
              "      --hover-fill-color: #174EA6;\n",
              "      --disabled-fill-color: #AAA;\n",
              "      --disabled-bg-color: #DDD;\n",
              "  }\n",
              "\n",
              "  [theme=dark] .colab-df-quickchart {\n",
              "      --bg-color: #3B4455;\n",
              "      --fill-color: #D2E3FC;\n",
              "      --hover-bg-color: #434B5C;\n",
              "      --hover-fill-color: #FFFFFF;\n",
              "      --disabled-bg-color: #3B4455;\n",
              "      --disabled-fill-color: #666;\n",
              "  }\n",
              "\n",
              "  .colab-df-quickchart {\n",
              "    background-color: var(--bg-color);\n",
              "    border: none;\n",
              "    border-radius: 50%;\n",
              "    cursor: pointer;\n",
              "    display: none;\n",
              "    fill: var(--fill-color);\n",
              "    height: 32px;\n",
              "    padding: 0;\n",
              "    width: 32px;\n",
              "  }\n",
              "\n",
              "  .colab-df-quickchart:hover {\n",
              "    background-color: var(--hover-bg-color);\n",
              "    box-shadow: 0 1px 2px rgba(60, 64, 67, 0.3), 0 1px 3px 1px rgba(60, 64, 67, 0.15);\n",
              "    fill: var(--button-hover-fill-color);\n",
              "  }\n",
              "\n",
              "  .colab-df-quickchart-complete:disabled,\n",
              "  .colab-df-quickchart-complete:disabled:hover {\n",
              "    background-color: var(--disabled-bg-color);\n",
              "    fill: var(--disabled-fill-color);\n",
              "    box-shadow: none;\n",
              "  }\n",
              "\n",
              "  .colab-df-spinner {\n",
              "    border: 2px solid var(--fill-color);\n",
              "    border-color: transparent;\n",
              "    border-bottom-color: var(--fill-color);\n",
              "    animation:\n",
              "      spin 1s steps(1) infinite;\n",
              "  }\n",
              "\n",
              "  @keyframes spin {\n",
              "    0% {\n",
              "      border-color: transparent;\n",
              "      border-bottom-color: var(--fill-color);\n",
              "      border-left-color: var(--fill-color);\n",
              "    }\n",
              "    20% {\n",
              "      border-color: transparent;\n",
              "      border-left-color: var(--fill-color);\n",
              "      border-top-color: var(--fill-color);\n",
              "    }\n",
              "    30% {\n",
              "      border-color: transparent;\n",
              "      border-left-color: var(--fill-color);\n",
              "      border-top-color: var(--fill-color);\n",
              "      border-right-color: var(--fill-color);\n",
              "    }\n",
              "    40% {\n",
              "      border-color: transparent;\n",
              "      border-right-color: var(--fill-color);\n",
              "      border-top-color: var(--fill-color);\n",
              "    }\n",
              "    60% {\n",
              "      border-color: transparent;\n",
              "      border-right-color: var(--fill-color);\n",
              "    }\n",
              "    80% {\n",
              "      border-color: transparent;\n",
              "      border-right-color: var(--fill-color);\n",
              "      border-bottom-color: var(--fill-color);\n",
              "    }\n",
              "    90% {\n",
              "      border-color: transparent;\n",
              "      border-bottom-color: var(--fill-color);\n",
              "    }\n",
              "  }\n",
              "</style>\n",
              "\n",
              "  <script>\n",
              "    async function quickchart(key) {\n",
              "      const quickchartButtonEl =\n",
              "        document.querySelector('#' + key + ' button');\n",
              "      quickchartButtonEl.disabled = true;  // To prevent multiple clicks.\n",
              "      quickchartButtonEl.classList.add('colab-df-spinner');\n",
              "      try {\n",
              "        const charts = await google.colab.kernel.invokeFunction(\n",
              "            'suggestCharts', [key], {});\n",
              "      } catch (error) {\n",
              "        console.error('Error during call to suggestCharts:', error);\n",
              "      }\n",
              "      quickchartButtonEl.classList.remove('colab-df-spinner');\n",
              "      quickchartButtonEl.classList.add('colab-df-quickchart-complete');\n",
              "    }\n",
              "    (() => {\n",
              "      let quickchartButtonEl =\n",
              "        document.querySelector('#df-ba7d9ca4-0f2c-46fd-b272-f52aae3f873b button');\n",
              "      quickchartButtonEl.style.display =\n",
              "        google.colab.kernel.accessAllowed ? 'block' : 'none';\n",
              "    })();\n",
              "  </script>\n",
              "</div>\n",
              "\n",
              "  <div id=\"id_390327d7-db78-4447-b806-277aa59fb2b0\">\n",
              "    <style>\n",
              "      .colab-df-generate {\n",
              "        background-color: #E8F0FE;\n",
              "        border: none;\n",
              "        border-radius: 50%;\n",
              "        cursor: pointer;\n",
              "        display: none;\n",
              "        fill: #1967D2;\n",
              "        height: 32px;\n",
              "        padding: 0 0 0 0;\n",
              "        width: 32px;\n",
              "      }\n",
              "\n",
              "      .colab-df-generate:hover {\n",
              "        background-color: #E2EBFA;\n",
              "        box-shadow: 0px 1px 2px rgba(60, 64, 67, 0.3), 0px 1px 3px 1px rgba(60, 64, 67, 0.15);\n",
              "        fill: #174EA6;\n",
              "      }\n",
              "\n",
              "      [theme=dark] .colab-df-generate {\n",
              "        background-color: #3B4455;\n",
              "        fill: #D2E3FC;\n",
              "      }\n",
              "\n",
              "      [theme=dark] .colab-df-generate:hover {\n",
              "        background-color: #434B5C;\n",
              "        box-shadow: 0px 1px 3px 1px rgba(0, 0, 0, 0.15);\n",
              "        filter: drop-shadow(0px 1px 2px rgba(0, 0, 0, 0.3));\n",
              "        fill: #FFFFFF;\n",
              "      }\n",
              "    </style>\n",
              "    <button class=\"colab-df-generate\" onclick=\"generateWithVariable('df')\"\n",
              "            title=\"Generate code using this dataframe.\"\n",
              "            style=\"display:none;\">\n",
              "\n",
              "  <svg xmlns=\"http://www.w3.org/2000/svg\" height=\"24px\"viewBox=\"0 0 24 24\"\n",
              "       width=\"24px\">\n",
              "    <path d=\"M7,19H8.4L18.45,9,17,7.55,7,17.6ZM5,21V16.75L18.45,3.32a2,2,0,0,1,2.83,0l1.4,1.43a1.91,1.91,0,0,1,.58,1.4,1.91,1.91,0,0,1-.58,1.4L9.25,21ZM18.45,9,17,7.55Zm-12,3A5.31,5.31,0,0,0,4.9,8.1,5.31,5.31,0,0,0,1,6.5,5.31,5.31,0,0,0,4.9,4.9,5.31,5.31,0,0,0,6.5,1,5.31,5.31,0,0,0,8.1,4.9,5.31,5.31,0,0,0,12,6.5,5.46,5.46,0,0,0,6.5,12Z\"/>\n",
              "  </svg>\n",
              "    </button>\n",
              "    <script>\n",
              "      (() => {\n",
              "      const buttonEl =\n",
              "        document.querySelector('#id_390327d7-db78-4447-b806-277aa59fb2b0 button.colab-df-generate');\n",
              "      buttonEl.style.display =\n",
              "        google.colab.kernel.accessAllowed ? 'block' : 'none';\n",
              "\n",
              "      buttonEl.onclick = () => {\n",
              "        google.colab.notebook.generateWithVariable('df');\n",
              "      }\n",
              "      })();\n",
              "    </script>\n",
              "  </div>\n",
              "\n",
              "    </div>\n",
              "  </div>\n"
            ],
            "text/plain": [
              "      Name  Age         City\n",
              "0    Alice   24     New York\n",
              "1      Bob   27  Los Angeles\n",
              "2  Charlie   22      Chicago\n",
              "3    David   32      Houston"
            ]
          },
          "execution_count": 98,
          "metadata": {},
          "output_type": "execute_result"
        }
      ],
      "source": [
        "data = {\n",
        "    'Name': ['Alice', 'Bob', 'Charlie', 'David'],\n",
        "    'Age': [24, 27, 22, 32],\n",
        "    'City': ['New York', 'Los Angeles', 'Chicago', 'Houston']\n",
        "}\n",
        "\n",
        "df = pd.DataFrame(data)\n",
        "df"
      ]
    },
    {
      "cell_type": "markdown",
      "metadata": {
        "id": "znEFC8PP1H7A"
      },
      "source": [
        "You can access individual columns using the column name, multiple columns by passing a list of column names, and specific rows using the .iloc[] method or by applying conditions."
      ]
    },
    {
      "cell_type": "code",
      "execution_count": null,
      "metadata": {
        "colab": {
          "base_uri": "https://localhost:8080/"
        },
        "id": "75dvatBT1J6b",
        "outputId": "891191bb-5920-442b-ff3b-7edc0b3f130a"
      },
      "outputs": [
        {
          "name": "stdout",
          "output_type": "stream",
          "text": [
            "0      Alice\n",
            "1        Bob\n",
            "2    Charlie\n",
            "3      David\n",
            "Name: Name, dtype: object\n",
            "      Name         City\n",
            "0    Alice     New York\n",
            "1      Bob  Los Angeles\n",
            "2  Charlie      Chicago\n",
            "3    David      Houston\n",
            "Name       Alice\n",
            "Age           24\n",
            "City    New York\n",
            "Name: 0, dtype: object\n",
            "    Name  Age         City\n",
            "1    Bob   27  Los Angeles\n",
            "3  David   32      Houston\n"
          ]
        }
      ],
      "source": [
        "print(df['Name'])\n",
        "print(df[['Name', 'City']])\n",
        "print(df.iloc[0])\n",
        "print(df[df['Age'] > 25])"
      ]
    },
    {
      "cell_type": "markdown",
      "metadata": {
        "id": "-NpGUFLV1R9U"
      },
      "source": [
        "Pandas allows for easy manipulation of DataFrames. In this example, we add a new column Salary to the DataFrame. We then calculate the mean age of the group using the .mean() method, which can be applied directly to a column."
      ]
    },
    {
      "cell_type": "code",
      "execution_count": null,
      "metadata": {
        "colab": {
          "base_uri": "https://localhost:8080/"
        },
        "id": "GcO_m-Ot1Tyz",
        "outputId": "288ec6bb-9ed3-4490-a64d-9a26cd143a61"
      },
      "outputs": [
        {
          "name": "stdout",
          "output_type": "stream",
          "text": [
            "DataFrame after adding 'Salary' column:\n",
            "      Name  Age         City  Salary\n",
            "0    Alice   24     New York   70000\n",
            "1      Bob   27  Los Angeles   80000\n",
            "2  Charlie   22      Chicago   60000\n",
            "3    David   32      Houston   90000\n",
            "\n",
            "Mean Age of the group: 26.25 years\n"
          ]
        }
      ],
      "source": [
        "df['Salary'] = [70000, 80000, 60000, 90000]\n",
        "\n",
        "mean_age = df['Age'].mean()\n",
        "\n",
        "print(\"DataFrame after adding 'Salary' column:\")\n",
        "print(df)\n",
        "\n",
        "print(f\"\\nMean Age of the group: {mean_age:.2f} years\") # here .2f rounds off decimal place to 2 digits"
      ]
    },
    {
      "cell_type": "markdown",
      "metadata": {
        "id": "RRPAQV7D1by3"
      },
      "source": [
        "Handling missing data is a common task in data analysis. This cell demonstrates how to introduce missing values (NaN) in a DataFrame and how to handle them using the .fillna() method. In this case, we fill the missing age with the mean age of the group."
      ]
    },
    {
      "cell_type": "code",
      "execution_count": null,
      "metadata": {
        "colab": {
          "base_uri": "https://localhost:8080/"
        },
        "id": "VfG6xV2R1pcq",
        "outputId": "9da4d837-74fc-47ae-971d-be4d504f01aa"
      },
      "outputs": [
        {
          "name": "stdout",
          "output_type": "stream",
          "text": [
            "DataFrame with missing value:\n",
            "      Name   Age         City  Salary\n",
            "0    Alice  24.0     New York   70000\n",
            "1      Bob  27.0  Los Angeles   80000\n",
            "2  Charlie   NaN      Chicago   60000\n",
            "3    David  32.0      Houston   90000\n",
            "\n",
            "DataFrame after filling missing values with mean age:\n",
            "      Name        Age         City  Salary\n",
            "0    Alice  24.000000     New York   70000\n",
            "1      Bob  27.000000  Los Angeles   80000\n",
            "2  Charlie  27.666667      Chicago   60000\n",
            "3    David  32.000000      Houston   90000\n"
          ]
        }
      ],
      "source": [
        "df.loc[2, 'Age'] = None\n",
        "\n",
        "print(\"DataFrame with missing value:\")\n",
        "print(df)\n",
        "\n",
        "df_filled = df.fillna(df['Age'].mean())\n",
        "\n",
        "print(\"\\nDataFrame after filling missing values with mean age:\")\n",
        "print(df_filled)"
      ]
    },
    {
      "cell_type": "markdown",
      "metadata": {
        "id": "kLAfUEhL1wzl"
      },
      "source": [
        "Aggregation is another powerful feature of pandas. In this cell, we group the DataFrame by the City column and calculate the mean of the Age and Salary columns for each city. The .groupby() and .agg() methods are used for this purpose."
      ]
    },
    {
      "cell_type": "code",
      "execution_count": null,
      "metadata": {
        "colab": {
          "base_uri": "https://localhost:8080/"
        },
        "id": "YfNWlygv1yOH",
        "outputId": "d84cdbc2-0fa7-49da-ab6c-cc56f4fd0ec2"
      },
      "outputs": [
        {
          "name": "stdout",
          "output_type": "stream",
          "text": [
            "Mean Age and Salary by City:\n",
            "              Age   Salary\n",
            "City                      \n",
            "Chicago       NaN  60000.0\n",
            "Houston      32.0  90000.0\n",
            "Los Angeles  27.0  80000.0\n",
            "New York     24.0  70000.0\n"
          ]
        }
      ],
      "source": [
        "grouped = df.groupby('City').agg({'Age': 'mean', 'Salary': 'mean'})\n",
        "print(\"Mean Age and Salary by City:\")\n",
        "print(grouped)"
      ]
    },
    {
      "cell_type": "markdown",
      "metadata": {
        "id": "BjAiJOzk2EPA"
      },
      "source": [
        "## Flask"
      ]
    },
    {
      "cell_type": "markdown",
      "metadata": {
        "id": "t6AYBtbl2OCH"
      },
      "source": [
        "Flask is a lightweight web framework for Python, designed to make it easy to build web applications. It is known for its simplicity and flexibility, allowing developers to create web apps with minimal overhead. Flask follows the WSGI (Web Server Gateway Interface) standard and is based on Werkzeug and Jinja2.\n"
      ]
    },
    {
      "cell_type": "code",
      "execution_count": null,
      "metadata": {
        "colab": {
          "base_uri": "https://localhost:8080/"
        },
        "id": "xycwI0822QlH",
        "outputId": "bd6e7355-0a9a-4cc0-a5b4-fa5b55150984"
      },
      "outputs": [
        {
          "output_type": "stream",
          "name": "stdout",
          "text": [
            "Requirement already satisfied: flask in /usr/local/lib/python3.10/dist-packages (2.2.5)\n",
            "Requirement already satisfied: Werkzeug>=2.2.2 in /usr/local/lib/python3.10/dist-packages (from flask) (3.0.3)\n",
            "Requirement already satisfied: Jinja2>=3.0 in /usr/local/lib/python3.10/dist-packages (from flask) (3.1.4)\n",
            "Requirement already satisfied: itsdangerous>=2.0 in /usr/local/lib/python3.10/dist-packages (from flask) (2.2.0)\n",
            "Requirement already satisfied: click>=8.0 in /usr/local/lib/python3.10/dist-packages (from flask) (8.1.7)\n",
            "Requirement already satisfied: MarkupSafe>=2.0 in /usr/local/lib/python3.10/dist-packages (from Jinja2>=3.0->flask) (2.1.5)\n",
            "Requirement already satisfied: transformers in /usr/local/lib/python3.10/dist-packages (4.42.4)\n",
            "Requirement already satisfied: filelock in /usr/local/lib/python3.10/dist-packages (from transformers) (3.15.4)\n",
            "Requirement already satisfied: huggingface-hub<1.0,>=0.23.2 in /usr/local/lib/python3.10/dist-packages (from transformers) (0.23.5)\n",
            "Requirement already satisfied: numpy<2.0,>=1.17 in /usr/local/lib/python3.10/dist-packages (from transformers) (1.26.4)\n",
            "Requirement already satisfied: packaging>=20.0 in /usr/local/lib/python3.10/dist-packages (from transformers) (24.1)\n",
            "Requirement already satisfied: pyyaml>=5.1 in /usr/local/lib/python3.10/dist-packages (from transformers) (6.0.2)\n",
            "Requirement already satisfied: regex!=2019.12.17 in /usr/local/lib/python3.10/dist-packages (from transformers) (2024.5.15)\n",
            "Requirement already satisfied: requests in /usr/local/lib/python3.10/dist-packages (from transformers) (2.32.3)\n",
            "Requirement already satisfied: safetensors>=0.4.1 in /usr/local/lib/python3.10/dist-packages (from transformers) (0.4.4)\n",
            "Requirement already satisfied: tokenizers<0.20,>=0.19 in /usr/local/lib/python3.10/dist-packages (from transformers) (0.19.1)\n",
            "Requirement already satisfied: tqdm>=4.27 in /usr/local/lib/python3.10/dist-packages (from transformers) (4.66.5)\n",
            "Requirement already satisfied: fsspec>=2023.5.0 in /usr/local/lib/python3.10/dist-packages (from huggingface-hub<1.0,>=0.23.2->transformers) (2024.6.1)\n",
            "Requirement already satisfied: typing-extensions>=3.7.4.3 in /usr/local/lib/python3.10/dist-packages (from huggingface-hub<1.0,>=0.23.2->transformers) (4.12.2)\n",
            "Requirement already satisfied: charset-normalizer<4,>=2 in /usr/local/lib/python3.10/dist-packages (from requests->transformers) (3.3.2)\n",
            "Requirement already satisfied: idna<4,>=2.5 in /usr/local/lib/python3.10/dist-packages (from requests->transformers) (3.7)\n",
            "Requirement already satisfied: urllib3<3,>=1.21.1 in /usr/local/lib/python3.10/dist-packages (from requests->transformers) (2.0.7)\n",
            "Requirement already satisfied: certifi>=2017.4.17 in /usr/local/lib/python3.10/dist-packages (from requests->transformers) (2024.7.4)\n"
          ]
        }
      ],
      "source": [
        "!pip install flask\n",
        "!pip install transformers"
      ]
    },
    {
      "cell_type": "markdown",
      "metadata": {
        "id": "669k-vMp2XnU"
      },
      "source": [
        "We create a basic Flask application. The Flask class is used to create an app instance, and we define a route using the @app.route decorator. This route maps the URL path '/' (home page) to the home() function, which returns a simple string message.\n",
        "\n",
        "NOTE: YOU HAVE TO RUN ALL THE FOLLOWING CODE IN LOCAL (VSCODE)"
      ]
    },
    {
      "cell_type": "code",
      "execution_count": null,
      "metadata": {
        "colab": {
          "base_uri": "https://localhost:8080/"
        },
        "id": "WI6YcsSc2an-",
        "outputId": "b12d0bc6-9ec6-4c9e-e9c8-e2f82a8fdead"
      },
      "outputs": [
        {
          "metadata": {
            "tags": null
          },
          "name": "stdout",
          "output_type": "stream",
          "text": [
            " * Serving Flask app '__main__'\n",
            " * Debug mode: on\n"
          ]
        },
        {
          "metadata": {
            "tags": null
          },
          "name": "stderr",
          "output_type": "stream",
          "text": [
            "INFO:werkzeug:\u001b[31m\u001b[1mWARNING: This is a development server. Do not use it in a production deployment. Use a production WSGI server instead.\u001b[0m\n",
            " * Running on http://127.0.0.1:5000\n",
            "INFO:werkzeug:\u001b[33mPress CTRL+C to quit\u001b[0m\n",
            "INFO:werkzeug: * Restarting with stat\n"
          ]
        }
      ],
      "source": [
        "from flask import Flask\n",
        "\n",
        "app = Flask(__name__)\n",
        "\n",
        "@app.route('/')\n",
        "def home():\n",
        "    return \"Welcome to Flask!\"\n",
        "\n",
        "@app.route('/about')\n",
        "def about():\n",
        "    return \"This is the about page.\"\n",
        "\n",
        "\n",
        "@app.route('/user/<name>') # A route with a dynamic URL parameter\n",
        "def user(name):\n",
        "    return f\"Hello, {name}!\"\n",
        "\n",
        "if __name__ == \"__main__\":\n",
        "    app.run(debug=True)"
      ]
    },
    {
      "cell_type": "markdown",
      "metadata": {
        "id": "D6V7U0ZZ3E0t"
      },
      "source": [
        "Flask allows you to handle different HTTP methods (GET, POST, etc.). In this example, the /submit route handles both GET and POST requests. If the request method is POST, it processes the form data and returns a response; otherwise, it displays an HTML form."
      ]
    },
    {
      "cell_type": "code",
      "execution_count": null,
      "metadata": {
        "id": "dar15ZRn3GtD",
        "colab": {
          "base_uri": "https://localhost:8080/"
        },
        "outputId": "5de5ceaf-6427-4109-9215-e57be4ae0ca8"
      },
      "outputs": [
        {
          "output_type": "stream",
          "name": "stdout",
          "text": [
            " * Serving Flask app '__main__'\n",
            " * Debug mode: on\n"
          ]
        },
        {
          "output_type": "stream",
          "name": "stderr",
          "text": [
            "INFO:werkzeug:\u001b[31m\u001b[1mWARNING: This is a development server. Do not use it in a production deployment. Use a production WSGI server instead.\u001b[0m\n",
            " * Running on http://127.0.0.1:5000\n",
            "INFO:werkzeug:\u001b[33mPress CTRL+C to quit\u001b[0m\n",
            "INFO:werkzeug: * Restarting with stat\n"
          ]
        }
      ],
      "source": [
        "from flask import Flask\n",
        "from flask import request\n",
        "\n",
        "app = Flask(__name__)\n",
        "\n",
        "@app.route('/submit', methods=['GET', 'POST'])\n",
        "def submit():\n",
        "    if request.method == 'POST':\n",
        "        name = request.form.get('name')\n",
        "        return f\"Form submitted! Hello, {name}!\"\n",
        "    return '''\n",
        "        <form method=\"post\">\n",
        "            Name: <input type=\"text\" name=\"name\">\n",
        "            <input type=\"submit\">\n",
        "        </form>\n",
        "    '''\n",
        "if __name__ == \"__main__\":\n",
        "    app.run(debug=True)"
      ]
    },
    {
      "cell_type": "markdown",
      "metadata": {
        "id": "gulArvZ_3NxP"
      },
      "source": [
        "Flask uses the Jinja2 template engine to render HTML templates. In this example, we use the render_template() function to render an HTML file named index.html."
      ]
    },
    {
      "cell_type": "code",
      "execution_count": null,
      "metadata": {
        "id": "S3Hyi2IR3OJn"
      },
      "outputs": [],
      "source": [
        "from flask import render_template\n",
        "\n",
        "# write a simple 'index.html' file in a 'templates' folder\n",
        "@app.route('/template')\n",
        "def template():\n",
        "    return render_template('index.html')"
      ]
    },
    {
      "cell_type": "markdown",
      "metadata": {
        "id": "2GQyznNX3WeJ"
      },
      "source": [
        "Flask can easily handle JSON data using the jsonify() function. In this cell, the /data route returns a JSON response containing some user data. This is particularly useful when building APIs."
      ]
    },
    {
      "cell_type": "code",
      "execution_count": null,
      "metadata": {
        "id": "s_-KO3Mm3WCb"
      },
      "outputs": [],
      "source": [
        "from flask import jsonify\n",
        "\n",
        "@app.route('/data')\n",
        "def data():\n",
        "    response_data = {'name': 'Alice', 'age': 24, 'city': 'New York'}\n",
        "    return jsonify(response_data)"
      ]
    },
    {
      "cell_type": "markdown",
      "metadata": {
        "id": "lPOhgnC43dwz"
      },
      "source": [
        "This example demonstrates how to create a RESTful API endpoint in Flask. The /api/user/<int:id> route takes an integer ID as a parameter and returns the corresponding user’s name in JSON format."
      ]
    },
    {
      "cell_type": "code",
      "execution_count": null,
      "metadata": {
        "id": "EoiV3tLl3eX8"
      },
      "outputs": [],
      "source": [
        "@app.route('/api/user/<int:id>', methods=['GET'])\n",
        "def get_user(id):\n",
        "    users = {1: 'Alice', 2: 'Bob', 3: 'Charlie'}\n",
        "    user = users.get(id, 'User not found')\n",
        "    return jsonify({'id': id, 'name': user})"
      ]
    },
    {
      "cell_type": "markdown",
      "metadata": {
        "id": "hFEOn6RR4kYD"
      },
      "source": [
        "**Exercise Time**\n",
        "\n",
        "Objective:\n",
        "\n",
        "Create a simple Flask application that integrates with a pre-trained model from Hugging Face. The application will allow users to input text and receive a response generated by the model.\n",
        "\n",
        "Exercise Requirements:\n",
        "\n",
        "Set up a basic Flask application.\n",
        "Create a single route (/predict) that accepts POST requests.\n",
        "The route should accept user input (text) and pass it to a Hugging Face model for processing.\n",
        "Return the model's output to the user.\n",
        "\n",
        "Use the Hugging Face 'transformers' library to load a pre-trained model.\n",
        "For simplicity, use a text generation model like 'distilgpt2'."
      ]
    },
    {
      "cell_type": "code",
      "source": [
        "!pip install pyngrok"
      ],
      "metadata": {
        "colab": {
          "base_uri": "https://localhost:8080/"
        },
        "id": "DyD5vqqFvU41",
        "outputId": "2482462e-d95f-4d29-f222-1f104379203a"
      },
      "execution_count": null,
      "outputs": [
        {
          "output_type": "stream",
          "name": "stdout",
          "text": [
            "Requirement already satisfied: pyngrok in /usr/local/lib/python3.10/dist-packages (7.2.0)\n",
            "Requirement already satisfied: PyYAML>=5.1 in /usr/local/lib/python3.10/dist-packages (from pyngrok) (6.0.2)\n"
          ]
        }
      ]
    },
    {
      "cell_type": "code",
      "source": [
        "from pyngrok import ngrok\n",
        "from flask import Flask, request, jsonify\n",
        "from transformers import pipeline"
      ],
      "metadata": {
        "id": "bQsKPp34vjve"
      },
      "execution_count": null,
      "outputs": []
    },
    {
      "cell_type": "code",
      "source": [
        "port_no = 5000"
      ],
      "metadata": {
        "id": "fmtKEMn7xx5O"
      },
      "execution_count": null,
      "outputs": []
    },
    {
      "cell_type": "code",
      "source": [
        "ngrok.set_auth_token(\"2l8zFlZUEojLv6F0RJm1fuC3aon_42rGfDELPTFmprZupJVLJ\")\n",
        "public_url = ngrok.connect(port_no).public_url\n",
        "\n",
        "pipe = pipeline('text-generation', model='distilgpt2')\n",
        "\n",
        "app = Flask(__name__)\n",
        "\n",
        "@app.route('/predict', methods=['GET', 'POST'])\n",
        "def predict():\n",
        "    if request.method == 'POST':\n",
        "        text = request.form.get('text')\n",
        "        return jsonify(pipe(text))\n",
        "\n",
        "    return '''\n",
        "        <form method=\"post\">\n",
        "            Text: <input type=\"text\" name=\"text\">\n",
        "            <input type=\"submit\">\n",
        "        </form>\n",
        "    '''\n",
        "\n",
        "print(f\"To access the global link please click {public_url}\")\n",
        "\n",
        "if __name__ == \"__main__\":\n",
        "    app.run(port = port_no)"
      ],
      "metadata": {
        "colab": {
          "base_uri": "https://localhost:8080/"
        },
        "id": "QnM6ugbKYiQf",
        "outputId": "7386261a-0b0a-4949-83ac-78ed38a062df"
      },
      "execution_count": null,
      "outputs": [
        {
          "output_type": "stream",
          "name": "stdout",
          "text": [
            "To access the global link please click https://7c5c-34-106-228-242.ngrok-free.app\n",
            " * Serving Flask app '__main__'\n",
            " * Debug mode: off\n"
          ]
        },
        {
          "output_type": "stream",
          "name": "stderr",
          "text": [
            "INFO:werkzeug:\u001b[31m\u001b[1mWARNING: This is a development server. Do not use it in a production deployment. Use a production WSGI server instead.\u001b[0m\n",
            " * Running on http://127.0.0.1:5000\n",
            "INFO:werkzeug:\u001b[33mPress CTRL+C to quit\u001b[0m\n",
            "INFO:werkzeug:127.0.0.1 - - [25/Aug/2024 09:28:27] \"\u001b[33mGET / HTTP/1.1\u001b[0m\" 404 -\n",
            "INFO:werkzeug:127.0.0.1 - - [25/Aug/2024 09:28:28] \"\u001b[33mGET /favicon.ico HTTP/1.1\u001b[0m\" 404 -\n",
            "INFO:werkzeug:127.0.0.1 - - [25/Aug/2024 09:28:33] \"GET /predict HTTP/1.1\" 200 -\n",
            "Setting `pad_token_id` to `eos_token_id`:50256 for open-end generation.\n",
            "ERROR:__main__:Exception on /predict [POST]\n",
            "Traceback (most recent call last):\n",
            "  File \"/usr/local/lib/python3.10/dist-packages/flask/app.py\", line 2529, in wsgi_app\n",
            "    response = self.full_dispatch_request()\n",
            "  File \"/usr/local/lib/python3.10/dist-packages/flask/app.py\", line 1825, in full_dispatch_request\n",
            "    rv = self.handle_user_exception(e)\n",
            "  File \"/usr/local/lib/python3.10/dist-packages/flask/app.py\", line 1823, in full_dispatch_request\n",
            "    rv = self.dispatch_request()\n",
            "  File \"/usr/local/lib/python3.10/dist-packages/flask/app.py\", line 1799, in dispatch_request\n",
            "    return self.ensure_sync(self.view_functions[rule.endpoint])(**view_args)\n",
            "  File \"<ipython-input-14-c035dc6188e0>\", line 12, in predict\n",
            "    return pipe(text)[\"generated_text\"]\n",
            "TypeError: list indices must be integers or slices, not str\n",
            "INFO:werkzeug:127.0.0.1 - - [25/Aug/2024 09:28:42] \"\u001b[35m\u001b[1mPOST /predict HTTP/1.1\u001b[0m\" 500 -\n"
          ]
        }
      ]
    },
    {
      "cell_type": "markdown",
      "metadata": {
        "id": "DVQ5ll_J5Inl"
      },
      "source": [
        "# Study Resources"
      ]
    },
    {
      "cell_type": "markdown",
      "metadata": {
        "id": "s8WJTf2S5PjJ"
      },
      "source": [
        "Data analytics:\n",
        "\n",
        "[Python Libraries In-Depth](https://www.udemy.com/course/data-analytics-in-python/)\n",
        "\n",
        "Testing:\n",
        "\n",
        "[RealPython](https://realpython.com/python-doctest/)\n",
        "\n",
        "[PyTest](https://docs.pytest.org/en/stable/contents.html)\n",
        "\n",
        "Backend:\n",
        "\n",
        "[Django](https://www.djangoproject.com/)\n",
        "\n",
        "[DjangoGirls](https://tutorial.djangogirls.org/en/)\n",
        "\n",
        "[FastAPI](https://fastapi.tiangolo.com/)\n",
        "\n",
        "Networking using Python:\n",
        "\n",
        "[Network Protocols and Web Sockets](https://medium.com/@AlexanderObregon/python-for-network-programming-a-beginners-overview-e9379cc44479#:~:text=The%20Role%20of%20Python%20in,client%20and%20http.)\n",
        "\n",
        "GUI:\n",
        "\n",
        "[RealPython](https://realpython.com/python-gui-tkinter/)\n",
        "\n",
        "[Tkinter](https://docs.codio.com/instructors/setupcourses/resources/resourcetools/tkinter.html)\n",
        "\n",
        "*Advanced*\n",
        "\n",
        "Automation:\n",
        "\n",
        "[Projects based on Selenium or BeautifulSoup](https://www.geeksforgeeks.org/python-automation/)\n",
        "\n",
        "Artificial Intelligence:\n",
        "\n",
        "[Language](https://www.analyticsvidhya.com/blog/2022/05/a-complete-guide-on-chatbot-development-using-python/)\n",
        "\n",
        "[Videos and Images](https://www.analyticsvidhya.com/blog/2023/09/image-generation-using-stable-diffusion/)\n",
        "\n",
        "\n",
        "Courses:\n",
        "\n",
        "[cs50p](https://cs50.harvard.edu/python/2022/) you can skip a few lectures (I would recommend to start watching lectures from week 5) but do all the exercises\n",
        "\n",
        "[GooglePythonClass](https://www.youtube.com/playlist?list=PLC8825D0450647509) this is a video course if that helps"
      ]
    },
    {
      "cell_type": "markdown",
      "metadata": {
        "id": "8tm2u49a_HoN"
      },
      "source": [
        "# Final Project (OPTIONAL)"
      ]
    },
    {
      "cell_type": "markdown",
      "metadata": {
        "id": "Q_6JxhzB_J7Q"
      },
      "source": [
        "## **Expense Tracker with Data Analysis and Visualization**\n",
        "\n",
        "### **Project Overview:**\n",
        "\n",
        "Create a command-line or web-based expense tracker that allows users to record, analyze, and visualize their expenses. This project will incorporate various Python concepts, including loops, conditionals, data structures, functions, error handling, OOP, file I/O, and data analysis with NumPy and Pandas.\n",
        "\n",
        "### **Project Requirements:**\n",
        "\n",
        "**Data Input and Storage:**\n",
        "\n",
        "Allow users to input their daily expenses, including date, category (e.g., food, transportation), and amount.\n",
        "Store the expenses in a file (e.g., CSV) or in-memory using lists, tuples, or dictionaries.\n",
        "\n",
        "**Data Processing:**\n",
        "\n",
        "Implement functions to load, save, and process the expense data.\n",
        "Use loops, if-else statements, and functions to filter and categorize expenses.\n",
        "\n",
        "**String Manipulation and Regular Expressions:**\n",
        "\n",
        "Parse and validate user input, such as dates and categories, using string manipulation and regular expressions.\n",
        "Ensure that dates are in the correct format and categories match predefined options.\n",
        "\n",
        "**Error Handling:**\n",
        "\n",
        "Implement try-except blocks to handle possible errors (e.g., invalid input, file not found).\n",
        "\n",
        "**Object-Oriented Programming:**\n",
        "\n",
        "Design classes to represent an Expense and an ExpenseTracker with methods for adding, deleting, and summarizing expenses.\n",
        "Use decorators for any additional functionality (e.g., logging).\n",
        "\n",
        "**Data Analysis with NumPy and Pandas:**\n",
        "\n",
        "Convert the expense data into a Pandas DataFrame for easy manipulation and analysis.\n",
        "Use NumPy for numerical operations, such as calculating total expenses, average spending, and category-wise breakdowns.\n",
        "Perform basic regression analysis to predict future expenses based on historical data.\n",
        "\n",
        "**Visualization:**\n",
        "\n",
        "Create visualizations (e.g., bar charts, pie charts) to display the distribution of expenses by category or over time.\n",
        "Use Pandas plotting functions or Matplotlib for visualization.\n",
        "\n",
        "**Flask Integration (Optional):**\n",
        "\n",
        "Optionally, build a simple Flask app with routes for inputting expenses, viewing summaries, and displaying visualizations.\n",
        "Use Flask to provide a web-based interface for the expense tracker.\n",
        "\n",
        "### **Step-by-Step Implementation:**\n",
        "\n",
        "**Set Up the Expense Tracker:**\n",
        "\n",
        "Create classes for Expense (attributes: date, category, amount) and ExpenseTracker (methods: add_expense, delete_expense, summarize_expenses).\n",
        "Implement functions to read/write expenses from/to a file.\n",
        "\n",
        "**Data Input and Validation:**\n",
        "\n",
        "Implement a command-line interface (CLI) or web form to input expenses.\n",
        "Use regular expressions to validate the date format and ensure categories are correct.\n",
        "\n",
        "**Expense Analysis:**\n",
        "\n",
        "Write functions to calculate total expenses, monthly summaries, and category-wise distributions.\n",
        "Use NumPy and Pandas to perform data analysis and create summaries.\n",
        "\n",
        "**Visualization:**\n",
        "\n",
        "Generate visualizations to help users understand their spending habits.\n",
        "Create bar charts showing monthly expenses or pie charts showing category distributions.\n",
        "\n",
        "**Error Handling and Scope Management:**\n",
        "\n",
        "Ensure all user inputs are validated and handled gracefully using try-except.\n",
        "Keep data encapsulated within classes and methods, and manage variable scope effectively.\n",
        "\n",
        "**Flask Integration (Optional):**\n",
        "\n",
        "If creating a web-based app, build a simple Flask application with routes for adding expenses and viewing summaries.\n",
        "Display visualizations directly in the web interface using Flask templates.\n",
        "\n",
        "### **Project Outcome:**\n",
        "\n",
        "By the end of this project, you will have an expense tracker that allows users to record and analyze their expenses. This project will help you practice Python's core concepts and provide a practical tool for managing personal finances.\n",
        "\n",
        "**Bonus Features:**\n",
        "\n",
        "Add a feature to export expense summaries as CSV or PDF.\n",
        "Include advanced filtering options, like filtering by date range or category.\n",
        "Extend the app to allow multiple users with separate expense tracking."
      ]
    },
    {
      "cell_type": "code",
      "source": [],
      "metadata": {
        "id": "hr2Mw8Np5LBo"
      },
      "execution_count": null,
      "outputs": []
    }
  ],
  "metadata": {
    "colab": {
      "provenance": [],
      "include_colab_link": true
    },
    "kernelspec": {
      "display_name": "Python 3",
      "name": "python3"
    },
    "language_info": {
      "name": "python"
    }
  },
  "nbformat": 4,
  "nbformat_minor": 0
}